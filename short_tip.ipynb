{
  "nbformat": 4,
  "nbformat_minor": 0,
  "metadata": {
    "colab": {
      "name": "Untitled0.ipynb",
      "provenance": [],
      "collapsed_sections": [],
      "authorship_tag": "ABX9TyMhGJ1dkV9xmf+SBhQ5hnhH",
      "include_colab_link": true
    },
    "kernelspec": {
      "name": "python3",
      "display_name": "Python 3"
    },
    "language_info": {
      "name": "python"
    }
  },
  "cells": [
    {
      "cell_type": "markdown",
      "metadata": {
        "id": "view-in-github",
        "colab_type": "text"
      },
      "source": [
        "<a href=\"https://colab.research.google.com/github/csw180/romanticpy/blob/main/short_tip.ipynb\" target=\"_parent\"><img src=\"https://colab.research.google.com/assets/colab-badge.svg\" alt=\"Open In Colab\"/></a>"
      ]
    },
    {
      "cell_type": "markdown",
      "source": [
        ""
      ],
      "metadata": {
        "id": "EVe-IiEet8Y-"
      }
    },
    {
      "cell_type": "code",
      "execution_count": null,
      "metadata": {
        "colab": {
          "base_uri": "https://localhost:8080/"
        },
        "id": "hENv53jeQEgj",
        "outputId": "2ecf18bd-ab22-4ae8-ff9a-bf6a1c570c25"
      },
      "outputs": [
        {
          "output_type": "stream",
          "name": "stdout",
          "text": [
            "[5, 6, 3]\n"
          ]
        }
      ],
      "source": [
        "\n",
        "def solution(arr, commands) :\n",
        "  result = []\n",
        "  for  comm in commands :\n",
        "    l,m,k = comm\n",
        "    b = a[l-1:m]\n",
        "    b.sort()\n",
        "    result.append(b[k-1])\n",
        "\n",
        "  return result\n",
        "\n",
        "a = [1, 5, 2, 6, 3, 7, 4,8,7]   \n",
        "commands = [[2, 5, 3], [4, 4, 1], [1, 7, 3]]\n",
        "print(solution(a,commands))"
      ]
    },
    {
      "cell_type": "code",
      "source": [
        "b.sort()\n",
        "print(f'b={b}')"
      ],
      "metadata": {
        "colab": {
          "base_uri": "https://localhost:8080/"
        },
        "id": "YojMRGs9QH6q",
        "outputId": "7cfb69eb-8cbd-4823-e58b-bd926dd1f22a"
      },
      "execution_count": null,
      "outputs": [
        {
          "output_type": "stream",
          "name": "stdout",
          "text": [
            "b=[2, 3, 5, 6]\n"
          ]
        }
      ]
    },
    {
      "cell_type": "markdown",
      "source": [
        ""
      ],
      "metadata": {
        "id": "Z92PDEGk-Co_"
      }
    },
    {
      "cell_type": "code",
      "source": [
        "print(b[2])"
      ],
      "metadata": {
        "colab": {
          "base_uri": "https://localhost:8080/"
        },
        "id": "48h2mb9xRZvE",
        "outputId": "e9fe8160-30e5-4798-e62b-2808425d0291"
      },
      "execution_count": null,
      "outputs": [
        {
          "output_type": "stream",
          "name": "stdout",
          "text": [
            "5\n"
          ]
        }
      ]
    },
    {
      "cell_type": "markdown",
      "source": [
        "def nthb(lst,l,m,n) :\n",
        "  s = lst[l-1,m]\n",
        "  s.sort()\n",
        "  return s[n-1]"
      ],
      "metadata": {
        "id": "1iQODuKIZ5Kr"
      }
    },
    {
      "cell_type": "code",
      "source": [
        ""
      ],
      "metadata": {
        "id": "l4XnittjbGAi"
      },
      "execution_count": null,
      "outputs": []
    },
    {
      "cell_type": "markdown",
      "source": [
        ""
      ],
      "metadata": {
        "id": "sLZIpdWma7mK"
      }
    },
    {
      "cell_type": "code",
      "source": [
        "import operator\n",
        "a = [('A',20,160),('B',21,150),('C',25,170),('D',30,160)]\n",
        "aa = sorted(a,key=operator.itemgetter(2))\n",
        "print(aa)"
      ],
      "metadata": {
        "colab": {
          "base_uri": "https://localhost:8080/"
        },
        "id": "W9etlUyOYmDs",
        "outputId": "12c0c7e5-782e-495f-96b7-bde53b89aeb0"
      },
      "execution_count": null,
      "outputs": [
        {
          "output_type": "stream",
          "name": "stdout",
          "text": [
            "[('B', 21, 150), ('A', 20, 160), ('D', 30, 160), ('C', 25, 170)]\n"
          ]
        }
      ]
    },
    {
      "cell_type": "code",
      "source": [
        "sub_a = [x[1] for x in a]\n",
        "sub_a.sort()\n",
        "print(sub_a)\n",
        "sub_b = [x[2] for x in a]\n",
        "sub_b.sort()\n",
        "print(sub_b)"
      ],
      "metadata": {
        "colab": {
          "base_uri": "https://localhost:8080/"
        },
        "id": "newkQNobc7XC",
        "outputId": "3ed022fb-12ef-4fbb-cdd5-0ccb07b9614e"
      },
      "execution_count": null,
      "outputs": [
        {
          "output_type": "stream",
          "name": "stdout",
          "text": [
            "[20, 21, 25, 30]\n",
            "[150, 160, 160, 170]\n"
          ]
        }
      ]
    },
    {
      "cell_type": "code",
      "source": [
        "import operator\n",
        "a = [{'name':'A','age':20,'height':160},\n",
        "     {'name':'B','age':21,'height':150},\n",
        "     {'name':'C','age':25,'height':170},\n",
        "     {'name':'D','age':30,'height':160}]\n",
        "aa = sorted(a,key=operator.itemgetter('name'))\n",
        "print(aa)"
      ],
      "metadata": {
        "colab": {
          "base_uri": "https://localhost:8080/"
        },
        "id": "ZC_a1YyrboJb",
        "outputId": "7d534e84-faf4-4175-aaee-4e6d7b48aa2a"
      },
      "execution_count": null,
      "outputs": [
        {
          "output_type": "stream",
          "name": "stdout",
          "text": [
            "[{'name': 'A', 'age': 20, 'height': 160}, {'name': 'B', 'age': 21, 'height': 150}, {'name': 'C', 'age': 25, 'height': 170}, {'name': 'D', 'age': 30, 'height': 160}]\n"
          ]
        }
      ]
    },
    {
      "cell_type": "code",
      "source": [
        ""
      ],
      "metadata": {
        "id": "dO8bV6K9aMrZ"
      },
      "execution_count": null,
      "outputs": []
    },
    {
      "cell_type": "markdown",
      "source": [
        "## 전개 연산자\n",
        "### 함수호출시\n",
        "mysum(*a) 형태로 함수를 호출할때 리스트등을 파라메타로 넘길때 *a 형태로 넘기면 각각의 요소가 별도의 파라메타로 넘어간다.\n",
        "이때 받아서 처리하는 함수는 넘어올 파라메타 갯수가 일정지 않을 수 있어서 함수정의시 def func(*a) 행태로 파라메타를 튜플로 싸서 받아와서 흔히들 처리한다.함수호출시 파라메타 갯수가 3개로 일정하다면\n",
        "mysum(*a) 형태로 호출해도 def mysum(a,b,c) 로 함수를 정의해서 사용해도 된다.\n"
      ],
      "metadata": {
        "id": "B_YAB8pyaKKj"
      }
    },
    {
      "cell_type": "code",
      "source": [
        "def paramtest(*a) :\n",
        "  print(type(a))\n",
        "  print(a)\n",
        "\n",
        "a = [5,8,10]\n",
        "paramtest(a)\n",
        "\n",
        "paramtest(*a)"
      ],
      "metadata": {
        "id": "TAwO3amCb55S",
        "colab": {
          "base_uri": "https://localhost:8080/"
        },
        "outputId": "d3b67d5b-2d83-41ab-85d8-58b19e654036"
      },
      "execution_count": null,
      "outputs": [
        {
          "output_type": "stream",
          "name": "stdout",
          "text": [
            "<class 'tuple'>\n",
            "([5, 8, 10],)\n",
            "<class 'tuple'>\n",
            "(5, 8, 10)\n"
          ]
        }
      ]
    },
    {
      "cell_type": "markdown",
      "source": [
        "# **pandas 필터링**\n"
      ],
      "metadata": {
        "id": "0r7bI-6lrPPh"
      }
    },
    {
      "cell_type": "code",
      "source": [
        "import pandas as pd\n",
        "import plotly.express as px\n",
        "\n",
        "df = px.data.gapminder()\n",
        "df.head()"
      ],
      "metadata": {
        "colab": {
          "base_uri": "https://localhost:8080/",
          "height": 206
        },
        "id": "sfPdK8NAralQ",
        "outputId": "e93855ac-4058-44ca-dd64-62cc9d014aa2"
      },
      "execution_count": null,
      "outputs": [
        {
          "output_type": "execute_result",
          "data": {
            "text/html": [
              "\n",
              "  <div id=\"df-029a3968-807f-4b66-95e0-46bba58fa5e8\">\n",
              "    <div class=\"colab-df-container\">\n",
              "      <div>\n",
              "<style scoped>\n",
              "    .dataframe tbody tr th:only-of-type {\n",
              "        vertical-align: middle;\n",
              "    }\n",
              "\n",
              "    .dataframe tbody tr th {\n",
              "        vertical-align: top;\n",
              "    }\n",
              "\n",
              "    .dataframe thead th {\n",
              "        text-align: right;\n",
              "    }\n",
              "</style>\n",
              "<table border=\"1\" class=\"dataframe\">\n",
              "  <thead>\n",
              "    <tr style=\"text-align: right;\">\n",
              "      <th></th>\n",
              "      <th>country</th>\n",
              "      <th>continent</th>\n",
              "      <th>year</th>\n",
              "      <th>lifeExp</th>\n",
              "      <th>pop</th>\n",
              "      <th>gdpPercap</th>\n",
              "      <th>iso_alpha</th>\n",
              "      <th>iso_num</th>\n",
              "    </tr>\n",
              "  </thead>\n",
              "  <tbody>\n",
              "    <tr>\n",
              "      <th>0</th>\n",
              "      <td>Afghanistan</td>\n",
              "      <td>Asia</td>\n",
              "      <td>1952</td>\n",
              "      <td>28.801</td>\n",
              "      <td>8425333</td>\n",
              "      <td>779.445314</td>\n",
              "      <td>AFG</td>\n",
              "      <td>4</td>\n",
              "    </tr>\n",
              "    <tr>\n",
              "      <th>1</th>\n",
              "      <td>Afghanistan</td>\n",
              "      <td>Asia</td>\n",
              "      <td>1957</td>\n",
              "      <td>30.332</td>\n",
              "      <td>9240934</td>\n",
              "      <td>820.853030</td>\n",
              "      <td>AFG</td>\n",
              "      <td>4</td>\n",
              "    </tr>\n",
              "    <tr>\n",
              "      <th>2</th>\n",
              "      <td>Afghanistan</td>\n",
              "      <td>Asia</td>\n",
              "      <td>1962</td>\n",
              "      <td>31.997</td>\n",
              "      <td>10267083</td>\n",
              "      <td>853.100710</td>\n",
              "      <td>AFG</td>\n",
              "      <td>4</td>\n",
              "    </tr>\n",
              "    <tr>\n",
              "      <th>3</th>\n",
              "      <td>Afghanistan</td>\n",
              "      <td>Asia</td>\n",
              "      <td>1967</td>\n",
              "      <td>34.020</td>\n",
              "      <td>11537966</td>\n",
              "      <td>836.197138</td>\n",
              "      <td>AFG</td>\n",
              "      <td>4</td>\n",
              "    </tr>\n",
              "    <tr>\n",
              "      <th>4</th>\n",
              "      <td>Afghanistan</td>\n",
              "      <td>Asia</td>\n",
              "      <td>1972</td>\n",
              "      <td>36.088</td>\n",
              "      <td>13079460</td>\n",
              "      <td>739.981106</td>\n",
              "      <td>AFG</td>\n",
              "      <td>4</td>\n",
              "    </tr>\n",
              "  </tbody>\n",
              "</table>\n",
              "</div>\n",
              "      <button class=\"colab-df-convert\" onclick=\"convertToInteractive('df-029a3968-807f-4b66-95e0-46bba58fa5e8')\"\n",
              "              title=\"Convert this dataframe to an interactive table.\"\n",
              "              style=\"display:none;\">\n",
              "        \n",
              "  <svg xmlns=\"http://www.w3.org/2000/svg\" height=\"24px\"viewBox=\"0 0 24 24\"\n",
              "       width=\"24px\">\n",
              "    <path d=\"M0 0h24v24H0V0z\" fill=\"none\"/>\n",
              "    <path d=\"M18.56 5.44l.94 2.06.94-2.06 2.06-.94-2.06-.94-.94-2.06-.94 2.06-2.06.94zm-11 1L8.5 8.5l.94-2.06 2.06-.94-2.06-.94L8.5 2.5l-.94 2.06-2.06.94zm10 10l.94 2.06.94-2.06 2.06-.94-2.06-.94-.94-2.06-.94 2.06-2.06.94z\"/><path d=\"M17.41 7.96l-1.37-1.37c-.4-.4-.92-.59-1.43-.59-.52 0-1.04.2-1.43.59L10.3 9.45l-7.72 7.72c-.78.78-.78 2.05 0 2.83L4 21.41c.39.39.9.59 1.41.59.51 0 1.02-.2 1.41-.59l7.78-7.78 2.81-2.81c.8-.78.8-2.07 0-2.86zM5.41 20L4 18.59l7.72-7.72 1.47 1.35L5.41 20z\"/>\n",
              "  </svg>\n",
              "      </button>\n",
              "      \n",
              "  <style>\n",
              "    .colab-df-container {\n",
              "      display:flex;\n",
              "      flex-wrap:wrap;\n",
              "      gap: 12px;\n",
              "    }\n",
              "\n",
              "    .colab-df-convert {\n",
              "      background-color: #E8F0FE;\n",
              "      border: none;\n",
              "      border-radius: 50%;\n",
              "      cursor: pointer;\n",
              "      display: none;\n",
              "      fill: #1967D2;\n",
              "      height: 32px;\n",
              "      padding: 0 0 0 0;\n",
              "      width: 32px;\n",
              "    }\n",
              "\n",
              "    .colab-df-convert:hover {\n",
              "      background-color: #E2EBFA;\n",
              "      box-shadow: 0px 1px 2px rgba(60, 64, 67, 0.3), 0px 1px 3px 1px rgba(60, 64, 67, 0.15);\n",
              "      fill: #174EA6;\n",
              "    }\n",
              "\n",
              "    [theme=dark] .colab-df-convert {\n",
              "      background-color: #3B4455;\n",
              "      fill: #D2E3FC;\n",
              "    }\n",
              "\n",
              "    [theme=dark] .colab-df-convert:hover {\n",
              "      background-color: #434B5C;\n",
              "      box-shadow: 0px 1px 3px 1px rgba(0, 0, 0, 0.15);\n",
              "      filter: drop-shadow(0px 1px 2px rgba(0, 0, 0, 0.3));\n",
              "      fill: #FFFFFF;\n",
              "    }\n",
              "  </style>\n",
              "\n",
              "      <script>\n",
              "        const buttonEl =\n",
              "          document.querySelector('#df-029a3968-807f-4b66-95e0-46bba58fa5e8 button.colab-df-convert');\n",
              "        buttonEl.style.display =\n",
              "          google.colab.kernel.accessAllowed ? 'block' : 'none';\n",
              "\n",
              "        async function convertToInteractive(key) {\n",
              "          const element = document.querySelector('#df-029a3968-807f-4b66-95e0-46bba58fa5e8');\n",
              "          const dataTable =\n",
              "            await google.colab.kernel.invokeFunction('convertToInteractive',\n",
              "                                                     [key], {});\n",
              "          if (!dataTable) return;\n",
              "\n",
              "          const docLinkHtml = 'Like what you see? Visit the ' +\n",
              "            '<a target=\"_blank\" href=https://colab.research.google.com/notebooks/data_table.ipynb>data table notebook</a>'\n",
              "            + ' to learn more about interactive tables.';\n",
              "          element.innerHTML = '';\n",
              "          dataTable['output_type'] = 'display_data';\n",
              "          await google.colab.output.renderOutput(dataTable, element);\n",
              "          const docLink = document.createElement('div');\n",
              "          docLink.innerHTML = docLinkHtml;\n",
              "          element.appendChild(docLink);\n",
              "        }\n",
              "      </script>\n",
              "    </div>\n",
              "  </div>\n",
              "  "
            ],
            "text/plain": [
              "       country continent  year  ...   gdpPercap  iso_alpha  iso_num\n",
              "0  Afghanistan      Asia  1952  ...  779.445314        AFG        4\n",
              "1  Afghanistan      Asia  1957  ...  820.853030        AFG        4\n",
              "2  Afghanistan      Asia  1962  ...  853.100710        AFG        4\n",
              "3  Afghanistan      Asia  1967  ...  836.197138        AFG        4\n",
              "4  Afghanistan      Asia  1972  ...  739.981106        AFG        4\n",
              "\n",
              "[5 rows x 8 columns]"
            ]
          },
          "metadata": {},
          "execution_count": 3
        }
      ]
    },
    {
      "cell_type": "code",
      "source": [
        "# country 컬럼을 선택합니다.\n",
        "# 컬럼의 값과 조건을 비교합니다.\n",
        "# 그 결과를 새로운 변수에 할당합니다.\n",
        "is_venezuela = df['country'] == 'Venezuela'\n",
        "# print(is_venezuela)\n",
        "# 조건를 충족하는 데이터를 필터링하여 새로운 변수에 저장합니다.\n",
        "venezuela = df[is_venezuela]\n",
        "\n",
        "# 결과를 출력합니다.\n",
        "venezuela"
      ],
      "metadata": {
        "id": "MQamUow1rt8h"
      },
      "execution_count": null,
      "outputs": []
    },
    {
      "cell_type": "code",
      "source": [
        "# continent 컬럼을 선택합니다.\n",
        "# 컬럼의 값과 조건을 비교합니다.\n",
        "# 그 결과를 새로운 변수에 할당합니다.\n",
        "is_asia = df['continent'] == 'Asia'\n",
        "\n",
        "# lifeExp 컬럼을 선택합니다.\n",
        "# 컬럼의 값과 조건을 비교합니다.\n",
        "# 그 결과를 새로운 변수에 할당합니다.\n",
        "lifeExp_greather_80 = df['lifeExp'] >= 80\n",
        "\n",
        "# 두가지 조건를 동시에 충족하는 데이터를 필터링하여 새로운 변수에 저장합니다. (AND)\n",
        "subset_df = df[is_asia & lifeExp_greather_80]\n",
        "\n",
        "# 결과를 출력합니다.\n",
        "subset_df"
      ],
      "metadata": {
        "id": "0kxACOzvsQkc"
      },
      "execution_count": null,
      "outputs": []
    },
    {
      "cell_type": "code",
      "source": [
        "# continent 컬럼을 선택합니다.\n",
        "# 컬럼의 값과 조건을 비교합니다.\n",
        "# 그 결과를 새로운 변수에 할당합니다.\n",
        "not_japan = df['country'] != 'Japan'\n",
        "\n",
        "# 조건를 충족하는 데이터를 필터링하여 새로운 변수에 저장합니다.\n",
        "subset_df = df[not_japan]\n",
        "\n",
        "# 결과를 출력합니다.\n",
        "print(subset_df.shape)\n",
        "print()\n",
        "\n",
        "subset_df.head()"
      ],
      "metadata": {
        "id": "UO-SksAPsWqo"
      },
      "execution_count": null,
      "outputs": []
    },
    {
      "cell_type": "code",
      "source": [
        "!pip install -U pandasql"
      ],
      "metadata": {
        "colab": {
          "base_uri": "https://localhost:8080/"
        },
        "id": "WvC10XOIhMx_",
        "outputId": "82778d33-e506-4bb2-82fc-fa683898b183"
      },
      "execution_count": null,
      "outputs": [
        {
          "output_type": "stream",
          "name": "stdout",
          "text": [
            "Collecting pandasql\n",
            "  Downloading pandasql-0.7.3.tar.gz (26 kB)\n",
            "Requirement already satisfied: numpy in /usr/local/lib/python3.7/dist-packages (from pandasql) (1.21.5)\n",
            "Requirement already satisfied: pandas in /usr/local/lib/python3.7/dist-packages (from pandasql) (1.3.5)\n",
            "Requirement already satisfied: sqlalchemy in /usr/local/lib/python3.7/dist-packages (from pandasql) (1.4.31)\n",
            "Requirement already satisfied: python-dateutil>=2.7.3 in /usr/local/lib/python3.7/dist-packages (from pandas->pandasql) (2.8.2)\n",
            "Requirement already satisfied: pytz>=2017.3 in /usr/local/lib/python3.7/dist-packages (from pandas->pandasql) (2018.9)\n",
            "Requirement already satisfied: six>=1.5 in /usr/local/lib/python3.7/dist-packages (from python-dateutil>=2.7.3->pandas->pandasql) (1.15.0)\n",
            "Requirement already satisfied: greenlet!=0.4.17 in /usr/local/lib/python3.7/dist-packages (from sqlalchemy->pandasql) (1.1.2)\n",
            "Requirement already satisfied: importlib-metadata in /usr/local/lib/python3.7/dist-packages (from sqlalchemy->pandasql) (4.11.0)\n",
            "Requirement already satisfied: zipp>=0.5 in /usr/local/lib/python3.7/dist-packages (from importlib-metadata->sqlalchemy->pandasql) (3.7.0)\n",
            "Requirement already satisfied: typing-extensions>=3.6.4 in /usr/local/lib/python3.7/dist-packages (from importlib-metadata->sqlalchemy->pandasql) (3.10.0.2)\n",
            "Building wheels for collected packages: pandasql\n",
            "  Building wheel for pandasql (setup.py) ... \u001b[?25l\u001b[?25hdone\n",
            "  Created wheel for pandasql: filename=pandasql-0.7.3-py3-none-any.whl size=26784 sha256=def89ac4152f8928156cac58423a7376a2e9b891381cf180a566ceb10a24fbad\n",
            "  Stored in directory: /root/.cache/pip/wheels/5c/4b/ec/41f4e116c8053c3654e2c2a47c62b4fca34cc67ef7b55deb7f\n",
            "Successfully built pandasql\n",
            "Installing collected packages: pandasql\n",
            "Successfully installed pandasql-0.7.3\n"
          ]
        }
      ]
    },
    {
      "cell_type": "code",
      "source": [
        "import pandas as pd\n",
        "from pandasql import sqldf\n",
        "from pandasql import load_meat, load_births\n",
        "\n",
        "mysql = lambda q: sqldf(q, globals())\n",
        "\n",
        "meat = load_meat()\n",
        "births = load_births()"
      ],
      "metadata": {
        "id": "E2UHIfu4dXra"
      },
      "execution_count": null,
      "outputs": []
    },
    {
      "cell_type": "code",
      "source": [
        "result = mysql(\"SELECT * FROM meat LIMIT 5;\")\n",
        "print(result)\n",
        "print(type(result))\n",
        "print(type(meat))"
      ],
      "metadata": {
        "colab": {
          "base_uri": "https://localhost:8080/"
        },
        "id": "RzYsJ_KWhsOY",
        "outputId": "62d7adb3-a5e8-4371-f869-22beeeae4f1d"
      },
      "execution_count": null,
      "outputs": [
        {
          "output_type": "stream",
          "name": "stdout",
          "text": [
            "                         date   beef   veal  ...  broilers  other_chicken turkey\n",
            "0  1944-01-01 00:00:00.000000  751.0   85.0  ...      None           None   None\n",
            "1  1944-02-01 00:00:00.000000  713.0   77.0  ...      None           None   None\n",
            "2  1944-03-01 00:00:00.000000  741.0   90.0  ...      None           None   None\n",
            "3  1944-04-01 00:00:00.000000  650.0   89.0  ...      None           None   None\n",
            "4  1944-05-01 00:00:00.000000  681.0  106.0  ...      None           None   None\n",
            "\n",
            "[5 rows x 8 columns]\n",
            "<class 'pandas.core.frame.DataFrame'>\n",
            "<class 'pandas.core.frame.DataFrame'>\n"
          ]
        }
      ]
    }
  ]
}