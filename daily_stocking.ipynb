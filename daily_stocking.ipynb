{
 "cells": [
  {
   "cell_type": "markdown",
   "metadata": {},
   "source": [
    "```\n",
    "```"
   ]
  },
  {
   "attachments": {},
   "cell_type": "markdown",
   "metadata": {},
   "source": [
    "```\n",
    "pip install pymysql\n",
    "pip install finance-datareader\n",
    "pip install beautifulsoup4\n",
    "pip install pandas\n",
    "```"
   ]
  },
  {
   "cell_type": "code",
   "execution_count": null,
   "metadata": {},
   "outputs": [],
   "source": [
    "import FinanceDataReader as fdr\n",
    "import pandas   as pd\n",
    "import pymysql\n",
    "from datetime import datetime"
   ]
  },
  {
   "attachments": {},
   "cell_type": "markdown",
   "metadata": {},
   "source": [
    "* MariaDB 접속"
   ]
  },
  {
   "cell_type": "code",
   "execution_count": null,
   "metadata": {},
   "outputs": [],
   "source": [
    "connection = pymysql.connect(host='localhost', port=3306, db='home', \\\n",
    "  user='root', passwd ='arfrom', autocommit=True)\n",
    "cursor = connection.cursor()"
   ]
  },
  {
   "attachments": {},
   "cell_type": "markdown",
   "metadata": {},
   "source": [
    "* fdr 에서 종목리스트를 dataframe 으로 작성"
   ]
  },
  {
   "cell_type": "code",
   "execution_count": null,
   "metadata": {},
   "outputs": [],
   "source": [
    "df_krx = fdr.StockListing('KRX')  # KRX는 KOSPI,KOSDAQ,KONEX 모두 포함\n",
    "df_krx = df_krx.loc[df_krx['Code'].str.isdigit(),['Code','Name','Market']]  #테이블로 로딩할 칼럼만 선택한다."
   ]
  },
  {
   "attachments": {},
   "cell_type": "markdown",
   "metadata": {},
   "source": [
    "* 종목리스트를 DB 테이블에 insert"
   ]
  },
  {
   "cell_type": "code",
   "execution_count": null,
   "metadata": {},
   "outputs": [],
   "source": [
    "count = 0\n",
    "today = datetime.today().strftime('%Y%m%d')\n",
    "for  idx,row in df_krx.iterrows() :\n",
    "  count += 1\n",
    "  \n",
    "  sql = \"REPLACE INTO company_info (code, company, market, last_update) VALUES (%s,%s,%s,%s)\"\n",
    "  cursor.execute(sql,(*row,today))\n",
    "  connection.commit()\n",
    "  # print(f\"[company_info] {count:,} rows upsert completed\")  "
   ]
  },
  {
   "attachments": {},
   "cell_type": "markdown",
   "metadata": {},
   "source": [
    "* 현DB에 적재된 일별가격테이블의 최종일자를 구한다.\n",
    "* 최종일자 이후 일별가격만 테이블에 추가적재 하기 위함"
   ]
  },
  {
   "cell_type": "code",
   "execution_count": null,
   "metadata": {},
   "outputs": [],
   "source": [
    "sql = \"select max(date) from daily_price\"\n",
    "cursor.execute(sql)\n",
    "sdate = cursor.fetchone()[0]   # empty 이면 None  fetchone 의 return 타입은 tuple"
   ]
  },
  {
   "cell_type": "code",
   "execution_count": null,
   "metadata": {},
   "outputs": [],
   "source": [
    "if sdate is None :\n",
    "\tsdate = '20220101'\n",
    "\n",
    "count=0\n",
    "for idx,row in df_krx.iterrows() :\n",
    "  df = fdr.DataReader(row[0], sdate)\n",
    "  if df.empty :\n",
    "    continue\n",
    "  df = df.dropna().reset_index()  # 데이터 중에 NaN 있음, 날짜칼럼을 인텍스칼럼-> 일반칼럼\n",
    "  df[\"Date\"] = df[\"Date\"].dt.strftime(\"%Y%m%d\")\n",
    "  for sidx,srow in df.iterrows() :\n",
    "    sql = \"\"\"REPLACE INTO daily_price (code, date, open, high, low, close,  volume, chg) VALUES ('{}','{}',{},{},{},{},{},{})\n",
    "          \"\"\".format(row[0],*srow)\n",
    "    cursor.execute(sql)\n",
    "    connection.commit()\n",
    "  count += 1\n",
    "  print(f\"[daily_price]  {count:,} upsert completed\")"
   ]
  }
 ],
 "metadata": {
  "kernelspec": {
   "display_name": "Python 3",
   "language": "python",
   "name": "python3"
  },
  "language_info": {
   "codemirror_mode": {
    "name": "ipython",
    "version": 3
   },
   "file_extension": ".py",
   "mimetype": "text/x-python",
   "name": "python",
   "nbconvert_exporter": "python",
   "pygments_lexer": "ipython3",
   "version": "3.11.1"
  },
  "orig_nbformat": 4,
  "vscode": {
   "interpreter": {
    "hash": "c261aea317cc0286b3b3261fbba9abdec21eaa57589985bb7a274bf54d6cc0a7"
   }
  }
 },
 "nbformat": 4,
 "nbformat_minor": 2
}
