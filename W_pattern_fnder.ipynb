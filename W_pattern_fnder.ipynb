{
  "cells": [
    {
      "cell_type": "markdown",
      "metadata": {
        "colab_type": "text",
        "id": "view-in-github"
      },
      "source": [
        "<a href=\"https://colab.research.google.com/github/csw180/romanticpy/blob/main/W_pattern_fnder.ipynb\" target=\"_parent\"><img src=\"https://colab.research.google.com/assets/colab-badge.svg\" alt=\"Open In Colab\"/></a>"
      ]
    },
    {
      "cell_type": "markdown",
      "metadata": {
        "id": "KciL_5nTCT3T"
      },
      "source": [
        "### 바닥신호를 잡기 위한  W 패턴 인식하는 로직"
      ]
    },
    {
      "cell_type": "code",
      "execution_count": null,
      "metadata": {
        "id": "ovnTLesvvauQ"
      },
      "outputs": [],
      "source": [
        "import numpy as np\n",
        "import pandas_datareader.data as web\n",
        "import pandas as pd\n",
        "import datetime\n",
        "from collections import namedtuple\n",
        "\n",
        "def  process_trickery(trickery_list) :\n",
        "  index_list = []\n",
        "  data_dict = {}    # way, angle 두개 요소\n",
        "  data_dict['way'] = None\n",
        "  data_dict['angle'] = None\n",
        "  for row in trickery_list:\n",
        "    tmp_way = data_dict['way']\n",
        "    tmp_angle =data_dict['angle']\n",
        "    if len(index_list) == 0 :\n",
        "      index_list.append(row.Index)\n",
        "      data_dict['way'] = row.way\n",
        "      data_dict['angle'] = row.angle\n",
        "      continue\n",
        "    elif  ( (row.way == 'up') and (row.Low < float(data_dict['angle']) )) or \\\n",
        "          ( (row.way == 'down') and (row.High > float(data_dict['angle']) )) :\n",
        "        index_list.clear()\n",
        "        index_list.append(row.Index)\n",
        "        data_dict['way'] = row.way\n",
        "        data_dict['angle'] = row.angle   \n",
        "  return pd.DataFrame(data_dict, index=index_list)\n",
        "\n",
        "\n",
        "start = datetime.datetime(2021,10,1)\n",
        "end = datetime.datetime(2022,2, 24)\n",
        "# samsung_df = web.DataReader('005930', 'naver', start='2021-10-01', end='2022-02-24')\n",
        "# samsung_df = web.DataReader('005930', 'naver',start='2021-01-01')\n",
        "# samsung_df = web.DataReader('006890', 'naver')\n",
        "df = web.DataReader('352820', 'naver')\n",
        "\n",
        "df['ma5'] = df['Close'].rolling(window=5).mean()\n",
        "df['ma20'] = df['Close'].rolling(window=20).mean()\n",
        "df['vma20'] = df['Volume'].rolling(window=20).mean()\n",
        "df['ma60'] = df['Close'].rolling(window=60).mean()\n",
        "df['ma120'] = df['Close'].rolling(window=120).mean()\n",
        "df['ma240'] = df['Close'].rolling(window=240).mean()\n",
        "df['Open'] = df['Open'].astype(float, errors = 'raise')\n",
        "df['High'] = df['High'].astype(float, errors = 'raise')\n",
        "df['Low'] = df['Low'].astype(float, errors = 'raise')\n",
        "df['Close'] = df['Close'].astype(float, errors = 'raise')\n",
        "df['Volume'] = df['Volume'].astype(float, errors = 'raise')\n",
        "\n",
        "conditionlist = [\n",
        "    (df['Close'] > df['ma5']) & \\\n",
        "    (df['Close'].shift(1) < df['ma5'].shift(1)) & \\\n",
        "    (df['Close'].shift(2) < df['ma5'].shift(2)) & \\\n",
        "    (df['Close'].shift(3) < df['ma5'].shift(3))    ,\n",
        "    (df['Close'] < df['ma5']) &\\\n",
        "    (df['Close'].shift(1) > df['ma5'].shift(1)) &\\\n",
        "    (df['Close'].shift(2) > df['ma5'].shift(2)) &\\\n",
        "    (df['Close'].shift(3) > df['ma5'].shift(3))]\n",
        "choicelist1 = ['up', 'down']\n",
        "choicelist2 = [df['Low'].rolling(4).min(),df['High'].rolling(4).max()]\n",
        "\n",
        "df['way'] = np.select(conditionlist, choicelist1, default='')\n",
        "df['angle'] = np.select(conditionlist, choicelist2, default='')\n",
        "df = df.dropna()\n",
        "df = df[df['way'] > '']\n",
        "df = df[::-1]\n",
        "# print(df.head(40))\n",
        "\n",
        "df_copy = None\n",
        "prev_way = None\n",
        "trickery_list =[]\n",
        "for row in df.itertuples():\n",
        "  if (prev_way is None ) | (prev_way == row.way) :\n",
        "    trickery_list.append(row)\n",
        "    prev_way = row.way\n",
        "  elif prev_way != row.way :\n",
        "    if df_copy is None :\n",
        "      df_copy = process_trickery(trickery_list).copy()\n",
        "    else :\n",
        "      df_copy = pd.concat([df_copy,process_trickery(trickery_list)])\n",
        "    trickery_list.clear()\n",
        "    trickery_list.append(row)\n",
        "    prev_way = row.way\n",
        "if  len(df) > 0 :\n",
        "  if df_copy is None :\n",
        "    df_copy = process_trickery(trickery_list).copy()\n",
        "  else :\n",
        "    df_copy = pd.concat([df_copy,process_trickery(trickery_list)])\n",
        "\n",
        "print(type(df_copy))\n",
        "print(df_copy.head(30))\n",
        "\n"
      ]
    },
    {
      "cell_type": "code",
      "execution_count": null,
      "metadata": {
        "id": "BxvvX_YWOHJE"
      },
      "outputs": [],
      "source": [
        "\n"
      ]
    }
  ],
  "metadata": {
    "colab": {
      "authorship_tag": "ABX9TyOqc61xcH6P6II7h9+JWogK",
      "collapsed_sections": [],
      "include_colab_link": true,
      "name": "Untitled3.ipynb",
      "private_outputs": true,
      "provenance": []
    },
    "kernelspec": {
      "display_name": "Python 3",
      "language": "python",
      "name": "python3"
    },
    "language_info": {
      "name": "python",
      "version": "3.11.1 (tags/v3.11.1:a7a450f, Dec  6 2022, 19:58:39) [MSC v.1934 64 bit (AMD64)]"
    },
    "vscode": {
      "interpreter": {
        "hash": "c261aea317cc0286b3b3261fbba9abdec21eaa57589985bb7a274bf54d6cc0a7"
      }
    }
  },
  "nbformat": 4,
  "nbformat_minor": 0
}
