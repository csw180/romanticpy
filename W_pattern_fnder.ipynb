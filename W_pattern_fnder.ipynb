{
  "nbformat": 4,
  "nbformat_minor": 0,
  "metadata": {
    "colab": {
      "name": "Untitled3.ipynb",
      "private_outputs": true,
      "provenance": [],
      "collapsed_sections": [],
      "authorship_tag": "ABX9TyP2IQ0qNZj2qkQj+fL923FL",
      "include_colab_link": true
    },
    "kernelspec": {
      "name": "python3",
      "display_name": "Python 3"
    },
    "language_info": {
      "name": "python"
    }
  },
  "cells": [
    {
      "cell_type": "markdown",
      "metadata": {
        "id": "view-in-github",
        "colab_type": "text"
      },
      "source": [
        "<a href=\"https://colab.research.google.com/github/csw180/romanticpy/blob/main/W_pattern_fnder.ipynb\" target=\"_parent\"><img src=\"https://colab.research.google.com/assets/colab-badge.svg\" alt=\"Open In Colab\"/></a>"
      ]
    },
    {
      "cell_type": "markdown",
      "source": [
        "### 바닥신호를 잡기 위한  W 패턴 인식하는 로직"
      ],
      "metadata": {
        "id": "KciL_5nTCT3T"
      }
    },
    {
      "cell_type": "code",
      "execution_count": null,
      "metadata": {
        "id": "ovnTLesvvauQ"
      },
      "outputs": [],
      "source": [
        "import numpy as np\n",
        "import pandas_datareader.data as web\n",
        "import pandas as pd\n",
        "import datetime\n",
        "\n",
        "def  process_trickery(trickery_list) :\n",
        "  print(f'trickery_list={trickery_list}')\n",
        "  for t in trickery_list:\n",
        "    idx = t[0]\n",
        "    row = t[1]\n",
        "    df = row\n",
        "    if concat_df is None  :\n",
        "      concat_df = df\n",
        "    else :\n",
        "      concat_df = pd.concat([concat_df,df])\n",
        "  print(f'type idx = {type(idx)}, type row = {type(row)}')\n",
        "  print(f'type concat_df = {type(concat_df)}')\n",
        "  print(concat_df)\n",
        "  result_df = concat_df.iloc[0:0]\n",
        "  return result_df\n",
        "\n",
        "start = datetime.datetime(2021,10,1)\n",
        "end = datetime.datetime(2022,2, 24)\n",
        "# samsung_df = web.DataReader('005930', 'naver', start='2021-10-01', end='2022-02-24')\n",
        "# samsung_df = web.DataReader('005930', 'naver',start='2021-01-01')\n",
        "df = web.DataReader('145720', 'naver')\n",
        "# samsung_df = web.DataReader('006890', 'naver')\n",
        "\n",
        "df['ma5'] = df['Close'].rolling(window=5).mean()\n",
        "df['ma20'] = df['Close'].rolling(window=20).mean()\n",
        "df['vma20'] = df['Volume'].rolling(window=20).mean()\n",
        "df['ma60'] = df['Close'].rolling(window=60).mean()\n",
        "df['ma120'] = df['Close'].rolling(window=120).mean()\n",
        "df['ma240'] = df['Close'].rolling(window=240).mean()\n",
        "\n",
        "df['Open'] = df['Open'].astype(float, errors = 'raise')\n",
        "df['High'] = df['High'].astype(float, errors = 'raise')\n",
        "df['Low'] = df['Low'].astype(float, errors = 'raise')\n",
        "df['Close'] = df['Close'].astype(float, errors = 'raise')\n",
        "df['Volume'] = df['Volume'].astype(float, errors = 'raise')\n",
        "\n",
        "conditionlist = [\n",
        "    (df['Close'] > df['ma5']) & \\\n",
        "    (df['Close'].shift(1) < df['ma5'].shift(1)) & \\\n",
        "    (df['Close'].shift(2) < df['ma5'].shift(2)) & \\\n",
        "    (df['Close'].shift(3) < df['ma5'].shift(3))    ,\n",
        "    (df['Close'] < df['ma5']) &\\\n",
        "    (df['Close'].shift(1) > df['ma5'].shift(1)) &\\\n",
        "    (df['Close'].shift(2) > df['ma5'].shift(2)) &\\\n",
        "    (df['Close'].shift(3) > df['ma5'].shift(3))]\n",
        "choicelist1 = ['up', 'down']\n",
        "choicelist2 = [df['Low'].rolling(4).min(),df['High'].rolling(4).max()]\n",
        "\n",
        "df['way'] = np.select(conditionlist, choicelist1, default='')\n",
        "df['angle'] = np.select(conditionlist, choicelist2, default='')\n",
        "df = df.dropna()\n",
        "df = df[df['way'] > '']\n",
        "df = df[::-1]\n",
        "# df.info()\n",
        "# print(df.head(40))\n",
        "\n",
        "df_copy = df.iloc[0:0]\n",
        "print(df.head(40))\n",
        "\n",
        "prev_way = ''\n",
        "trickery_list =[]\n",
        "# for idx,row in df.iterrows():\n",
        "for row in df.itertuples():\n",
        "  print(f'row={row}')\n",
        "  print(f'type row={type(row)}')\n",
        "  print(f'type row.way={row.way}')\n",
        "  if (prev_way == '') | (prev_way == row.way)) :\n",
        "    trickery_list.append(row)\n",
        "    prev_way = row.way\n",
        "  elif   prev_way != row.way :\n",
        "    df_copy = pd.concat(df_copy,process_trickery(trickery_list))\n",
        "    trickery_list.clear()\n",
        "    trickery_list.append([idx,row])\n",
        "    prev_way = row['way']\n",
        "df_copy = pd.concat(df_copy,process_trickery(trickery_list))\n",
        "\n",
        "print(type(df_copy))\n",
        "print(df_copy)\n",
        "\n"
      ]
    },
    {
      "cell_type": "code",
      "source": [
        "def  process_trickery(trickery_list) :\n",
        "  concat_df : pd.DataFrame\n",
        "  for t in trickery_list:\n",
        "    idx = t[0]\n",
        "    row = t[1]\n",
        "    df = pd.DataFrame(index=idx, data=row)\n",
        "    if concat_df is null  :\n",
        "      concat_df = df\n",
        "    else :\n",
        "      concat_df = pd.concat([concat_df,df])\n",
        "  print(f'concat_df = {concat_df}')\n",
        "\n",
        "  \n"
      ],
      "metadata": {
        "id": "BxvvX_YWOHJE"
      },
      "execution_count": null,
      "outputs": []
    }
  ]
}