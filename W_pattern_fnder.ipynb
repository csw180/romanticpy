{
  "nbformat": 4,
  "nbformat_minor": 0,
  "metadata": {
    "colab": {
      "name": "Untitled3.ipynb",
      "private_outputs": true,
      "provenance": [],
      "collapsed_sections": [],
      "authorship_tag": "ABX9TyPFKi3l7myKt3+5nkUI95L7",
      "include_colab_link": true
    },
    "kernelspec": {
      "name": "python3",
      "display_name": "Python 3"
    },
    "language_info": {
      "name": "python"
    }
  },
  "cells": [
    {
      "cell_type": "markdown",
      "metadata": {
        "id": "view-in-github",
        "colab_type": "text"
      },
      "source": [
        "<a href=\"https://colab.research.google.com/github/csw180/romanticpy/blob/main/W_pattern_fnder.ipynb\" target=\"_parent\"><img src=\"https://colab.research.google.com/assets/colab-badge.svg\" alt=\"Open In Colab\"/></a>"
      ]
    },
    {
      "cell_type": "markdown",
      "source": [
        "### 바닥신호를 잡기 위한  W 패턴 인식하는 로직"
      ],
      "metadata": {
        "id": "KciL_5nTCT3T"
      }
    },
    {
      "cell_type": "code",
      "execution_count": null,
      "metadata": {
        "id": "ovnTLesvvauQ"
      },
      "outputs": [],
      "source": [
        "\n",
        "import pandas_datareader.data as web\n",
        "import pandas as pd\n",
        "import datetime\n",
        "\n",
        "start = datetime.datetime(2021,10,1)\n",
        "end = datetime.datetime(2022,2, 24)\n",
        "# samsung_df = web.DataReader('005930', 'naver', start='2021-10-01', end='2022-02-24')\n",
        "# samsung_df = web.DataReader('005930', 'naver',start='2021-01-01')\n",
        "df = web.DataReader('145720', 'naver')\n",
        "# samsung_df = web.DataReader('006890', 'naver')\n",
        "\n",
        "df['ma5'] = df['Close'].rolling(window=5).mean()\n",
        "df['ma20'] = df['Close'].rolling(window=20).mean()\n",
        "df['vma20'] = df['Volume'].rolling(window=20).mean()\n",
        "df['ma60'] = df['Close'].rolling(window=60).mean()\n",
        "df['ma120'] = df['Close'].rolling(window=120).mean()\n",
        "df['ma240'] = df['Close'].rolling(window=240).mean()\n",
        "\n",
        "df['Open'] = df['Open'].astype(float, errors = 'raise')\n",
        "df['High'] = df['High'].astype(float, errors = 'raise')\n",
        "df['Low'] = df['Low'].astype(float, errors = 'raise')\n",
        "df['Close'] = df['Close'].astype(float, errors = 'raise')\n",
        "df['Volume'] = df['Volume'].astype(float, errors = 'raise')\n",
        "\n",
        "df = df.dropna()\n",
        "df.info()\n",
        "print(df)\n"
      ]
    },
    {
      "cell_type": "code",
      "source": [
        ""
      ],
      "metadata": {
        "id": "JZ4wPHfmCQxq"
      },
      "execution_count": null,
      "outputs": []
    },
    {
      "cell_type": "code",
      "source": [
        "import numpy as np\n",
        "df['up'] = np.where( (df['Close'] > df['ma5']) & \\\n",
        "          (df['Close'].shift(1) < df['ma5'].shift(1)) & \\\n",
        "          (df['Close'].shift(2) < df['ma5'].shift(2)) & \\\n",
        "          (df['Close'].shift(3) < df['ma5'].shift(3)),'up', '')\n",
        "df['down'] = np.where( (df['Close'] < df['ma5']) &\\\n",
        "          (df['Close'].shift(1) > df['ma5'].shift(1)) &\\\n",
        "          (df['Close'].shift(2) > df['ma5'].shift(2)) &\\\n",
        "          (df['Close'].shift(3) > df['ma5'].shift(3)),'down', '')\n",
        "df['angle'] = np.where( (df['up'] == 'up'),df['Low'].rolling(3).min(),df['High'].rolling(3).max() )\n",
        "df  = df[::-1]\n",
        "df = df.dropna()\n",
        "df=df[(df['up'] == 'up') | (df['down'] == 'down')]\n",
        "df.head(30)"
      ],
      "metadata": {
        "id": "kl-ijSkcvlNh"
      },
      "execution_count": null,
      "outputs": []
    },
    {
      "cell_type": "code",
      "source": [
        ""
      ],
      "metadata": {
        "id": "U3X9rDToxuFs"
      },
      "execution_count": null,
      "outputs": []
    }
  ]
}