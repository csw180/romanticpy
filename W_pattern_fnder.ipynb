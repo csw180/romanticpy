{
  "nbformat": 4,
  "nbformat_minor": 0,
  "metadata": {
    "colab": {
      "name": "Untitled3.ipynb",
      "private_outputs": true,
      "provenance": [],
      "collapsed_sections": [],
      "authorship_tag": "ABX9TyNTZo78UVMm9DRvxn0anEps",
      "include_colab_link": true
    },
    "kernelspec": {
      "name": "python3",
      "display_name": "Python 3"
    },
    "language_info": {
      "name": "python"
    }
  },
  "cells": [
    {
      "cell_type": "markdown",
      "metadata": {
        "id": "view-in-github",
        "colab_type": "text"
      },
      "source": [
        "<a href=\"https://colab.research.google.com/github/csw180/romanticpy/blob/main/W_pattern_fnder.ipynb\" target=\"_parent\"><img src=\"https://colab.research.google.com/assets/colab-badge.svg\" alt=\"Open In Colab\"/></a>"
      ]
    },
    {
      "cell_type": "markdown",
      "source": [
        "### 바닥신호를 잡기 위한  W 패턴 인식하는 로직"
      ],
      "metadata": {
        "id": "KciL_5nTCT3T"
      }
    },
    {
      "cell_type": "code",
      "execution_count": null,
      "metadata": {
        "id": "ovnTLesvvauQ"
      },
      "outputs": [],
      "source": [
        "import numpy as np\n",
        "import pandas_datareader.data as web\n",
        "import pandas as pd\n",
        "import datetime\n",
        "\n",
        "class AngelSet :\n",
        "  def __init__(self) :\n",
        "    self.progress = 0\n",
        "\n",
        "\n",
        "\n",
        "\n",
        "start = datetime.datetime(2021,10,1)\n",
        "end = datetime.datetime(2022,2, 24)\n",
        "# samsung_df = web.DataReader('005930', 'naver', start='2021-10-01', end='2022-02-24')\n",
        "# samsung_df = web.DataReader('005930', 'naver',start='2021-01-01')\n",
        "df = web.DataReader('145720', 'naver')\n",
        "# samsung_df = web.DataReader('006890', 'naver')\n",
        "\n",
        "df['ma5'] = df['Close'].rolling(window=5).mean()\n",
        "df['ma20'] = df['Close'].rolling(window=20).mean()\n",
        "df['vma20'] = df['Volume'].rolling(window=20).mean()\n",
        "df['ma60'] = df['Close'].rolling(window=60).mean()\n",
        "df['ma120'] = df['Close'].rolling(window=120).mean()\n",
        "df['ma240'] = df['Close'].rolling(window=240).mean()\n",
        "\n",
        "df['Open'] = df['Open'].astype(float, errors = 'raise')\n",
        "df['High'] = df['High'].astype(float, errors = 'raise')\n",
        "df['Low'] = df['Low'].astype(float, errors = 'raise')\n",
        "df['Close'] = df['Close'].astype(float, errors = 'raise')\n",
        "df['Volume'] = df['Volume'].astype(float, errors = 'raise')\n",
        "\n",
        "# way_cond1 = (df['Close'] > df['ma5']) & \\\n",
        "#           (df['Close'].shift(1) < df['ma5'].shift(1)) & \\\n",
        "#           (df['Close'].shift(2) < df['ma5'].shift(2)) & \\\n",
        "#           (df['Close'].shift(3) < df['ma5'].shift(3))\n",
        "# way_cond2 = (df['Close'] < df['ma5']) &\\\n",
        "#           (df['Close'].shift(1) > df['ma5'].shift(1)) &\\\n",
        "#           (df['Close'].shift(2) > df['ma5'].shift(2)) &\\\n",
        "#           (df['Close'].shift(3) > df['ma5'].shift(3))\n",
        "conditionlist = [\n",
        "    (df['Close'] > df['ma5']) & \\\n",
        "    (df['Close'].shift(1) < df['ma5'].shift(1)) & \\\n",
        "    (df['Close'].shift(2) < df['ma5'].shift(2)) & \\\n",
        "    (df['Close'].shift(3) < df['ma5'].shift(3))    ,\n",
        "    (df['Close'] < df['ma5']) &\\\n",
        "    (df['Close'].shift(1) > df['ma5'].shift(1)) &\\\n",
        "    (df['Close'].shift(2) > df['ma5'].shift(2)) &\\\n",
        "    (df['Close'].shift(3) > df['ma5'].shift(3))]\n",
        "choicelist1 = ['up', 'down']\n",
        "choicelist2 = [df['Low'].rolling(4).min(),df['High'].rolling(4).max()]\n",
        "\n",
        "df['way'] = np.select(conditionlist, choicelist1, default='')\n",
        "df['angle'] = np.select(conditionlist, choicelist2, default='')\n",
        "df = df.dropna()\n",
        "df = df[df['way'] > '']\n",
        "df = df[::-1]\n",
        "# df.info()\n",
        "# print(df.head(40))\n",
        "\n",
        "# df_copy = df[0:0]\n",
        "print(df)\n",
        "\n",
        "# prev_way=''\n",
        "# prev_idx =''\n",
        "# prev_row = ''\n",
        "\n",
        "# for idx,row in df.iterrows():\n",
        "#   if prev_way == '' :\n",
        "#     prev_way = row['way']\n",
        "#     df_copy[idx] =  row\n",
        "#     continue    \n",
        "#   elif prev_way == row['way'] :\n",
        "#     if \n",
        "#   if prev_way=='up' :\n",
        "#     if row['way'] == 'down' :\n",
        "\n",
        "\n",
        "#   df_copy.loc[idx]=row\n",
        "#   print(type(idx), type(row))\n",
        "#   break\n",
        "    # print(idx,row['way'],row[1],row[2])\n",
        "  \n",
        "print(df_copy)"
      ]
    },
    {
      "cell_type": "code",
      "source": [
        "!pip uninstall pysqldf\n",
        "!pip install pandasql"
      ],
      "metadata": {
        "id": "hweW14pE3aWu"
      },
      "execution_count": null,
      "outputs": []
    },
    {
      "cell_type": "code",
      "source": [
        "from pandasql import sqldf\n",
        "\n",
        "sql = '''\n",
        "with  a  as (\n",
        "  select rownum as id, df.* from df\n",
        ")\n",
        "select \n",
        "from  a\n",
        "inner join   a\n",
        "  on a.id = b.id\n",
        "\n",
        "select baseday\n",
        "  ,rank() over (\n",
        "      partition by date(baseday)\n",
        "      order by baseday\n",
        "    ) r\n",
        "from df1;\n",
        "'''\n",
        "df = sqldf(sql, locals())\n",
        "df"
      ],
      "metadata": {
        "id": "ulUXRlng24Pv"
      },
      "execution_count": null,
      "outputs": []
    },
    {
      "cell_type": "code",
      "source": [
        "import numpy as np\n",
        "df['up'] = np.where( (df['Close'] > df['ma5']) & \\\n",
        "          (df['Close'].shift(1) < df['ma5'].shift(1)) & \\\n",
        "          (df['Close'].shift(2) < df['ma5'].shift(2)) & \\\n",
        "          (df['Close'].shift(3) < df['ma5'].shift(3)),'up', '')\n",
        "df['down'] = np.where( (df['Close'] < df['ma5']) &\\\n",
        "          (df['Close'].shift(1) > df['ma5'].shift(1)) &\\\n",
        "          (df['Close'].shift(2) > df['ma5'].shift(2)) &\\\n",
        "          (df['Close'].shift(3) > df['ma5'].shift(3)),'down', '')\n",
        "df['angle'] = np.where( (df['up'] == 'up'),df['Low'].rolling(3).min(),df['High'].rolling(3).max() )\n"
      ],
      "metadata": {
        "id": "kl-ijSkcvlNh"
      },
      "execution_count": null,
      "outputs": []
    },
    {
      "cell_type": "code",
      "source": [
        "df_temp  = df[::-1]\n",
        "df_temp = df_temp.dropna()\n",
        "print(df_temp)\n",
        "# df_temp=df[:0]\n",
        "# df.head(30)\n",
        "# df_temp.head(30)"
      ],
      "metadata": {
        "id": "U3X9rDToxuFs"
      },
      "execution_count": null,
      "outputs": []
    }
  ]
}