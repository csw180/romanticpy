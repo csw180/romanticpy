{
 "cells": [
  {
   "cell_type": "code",
   "execution_count": 91,
   "metadata": {},
   "outputs": [],
   "source": [
    "import pandas as pd\n",
    "import openpyxl\n",
    "import datetime as dt\n",
    "from dateutil.parser import parse\n",
    "\n",
    "def col_convert(a) :\n",
    "    key = a\n",
    "    tp = str(type(a))\n",
    "    if tp == \"<class 'datetime.datetime'>\" :\n",
    "        value = a.strftime(\"%Y%m\")+\"_정상\"\n",
    "    elif tp == \"<class 'str'>\" :\n",
    "        tmp  = a.split(\".\")[1]\n",
    "        if  tmp==\"1\" :\n",
    "            value = parse(a.split(\".\")[0]).strftime(\"%Y%m\")+\"_부진\"\n",
    "        elif tmp==\"2\" :\n",
    "            value = parse(a.split(\".\")[0]).strftime(\"%Y%m\")+\"_불용\"\n",
    "        elif tmp==\"3\" :\n",
    "            value = parse(a.split(\".\")[0]).strftime(\"%Y%m\")+\"_합계\"\n",
    "    return key,value        "
   ]
  },
  {
   "cell_type": "code",
   "execution_count": 99,
   "metadata": {},
   "outputs": [
    {
     "name": "stdout",
     "output_type": "stream",
     "text": [
      "<class 'type'>\n"
     ]
    }
   ],
   "source": [
    "a = 3\n",
    "tpa = type(a)\n",
    "print(type(tpa))"
   ]
  },
  {
   "cell_type": "code",
   "execution_count": 102,
   "metadata": {},
   "outputs": [],
   "source": [
    "df = pd.read_excel(\"../Data05.xlsx\",skiprows=1)\n",
    "df = df.rename({0:\"구분번호\",\"Unnamed: 7\":\"단위\",\" 분류\":\"분류\"},axis=1)\n",
    "df = df.set_index([\"구분\",\"구분번호\",\"카테고리명\",\"자재그룹\",\"자재그룹명\",\"제품코드\",\"제품명\",\"단위\",\"판매\",\"안전재고\",\"분류\"])\n",
    "column_list = list(df.columns)\n",
    "col_dict = {}\n",
    "for v in column_list :\n",
    "  key, value =   col_convert(v)\n",
    "  col_dict[key] = value\n",
    "df = df.rename(col_dict,axis=1)\n",
    "df = df.stack().reset_index()\n",
    "# df[\"level_11\"] = df[\"level_11\"].dt.strftime(\"%Y%m\")\n",
    "df = df.rename({\"level_11\":\"기준시점\",0:\"판매고\"},axis=1)\n",
    "\n",
    "df.head(4)\n",
    "# df.info()\n",
    "# df[\"0\"]\n",
    "df.to_excel(\"../result.xlsx\")"
   ]
  },
  {
   "cell_type": "code",
   "execution_count": 103,
   "metadata": {},
   "outputs": [],
   "source": [
    "import numpy as np"
   ]
  },
  {
   "cell_type": "code",
   "execution_count": 110,
   "metadata": {},
   "outputs": [],
   "source": [
    "x= np.arange(15,dtype=np.int64)\n",
    "x=x.reshape(3,5)"
   ]
  },
  {
   "cell_type": "code",
   "execution_count": 114,
   "metadata": {},
   "outputs": [
    {
     "data": {
      "text/plain": [
       "array([[ 0,  1,  2,  3,  4],\n",
       "       [ 5,  6,  7,  8,  9],\n",
       "       [10, 11, 12, 13, 14]], dtype=int64)"
      ]
     },
     "execution_count": 114,
     "metadata": {},
     "output_type": "execute_result"
    }
   ],
   "source": [
    "x[:]\n"
   ]
  },
  {
   "cell_type": "code",
   "execution_count": 118,
   "metadata": {},
   "outputs": [
    {
     "data": {
      "text/plain": [
       "[2]"
      ]
     },
     "execution_count": 118,
     "metadata": {},
     "output_type": "execute_result"
    }
   ],
   "source": [
    "a =[1,2,3,4]\n",
    "a[1:3:2]"
   ]
  },
  {
   "cell_type": "code",
   "execution_count": 1,
   "metadata": {},
   "outputs": [
    {
     "name": "stdout",
     "output_type": "stream",
     "text": [
      "3은 int 형입니다.\n"
     ]
    }
   ],
   "source": [
    "a = 3\n",
    "if type(a) == int :\n",
    "    print(\"3은 int 형입니다.\")"
   ]
  },
  {
   "cell_type": "code",
   "execution_count": 2,
   "metadata": {},
   "outputs": [
    {
     "data": {
      "text/plain": [
       "int"
      ]
     },
     "execution_count": 2,
     "metadata": {},
     "output_type": "execute_result"
    }
   ],
   "source": [
    "a= 3\n",
    "type(a)"
   ]
  },
  {
   "cell_type": "code",
   "execution_count": 3,
   "metadata": {},
   "outputs": [
    {
     "name": "stdout",
     "output_type": "stream",
     "text": [
      "\u001e\n"
     ]
    }
   ],
   "source": [
    "a=30\n",
    "print(chr(a))\n",
    "\n"
   ]
  },
  {
   "cell_type": "code",
   "execution_count": 4,
   "metadata": {},
   "outputs": [
    {
     "name": "stdout",
     "output_type": "stream",
     "text": [
      "65\n"
     ]
    }
   ],
   "source": [
    "a = \"A\"\n",
    "print(ord(a))"
   ]
  },
  {
   "cell_type": "code",
   "execution_count": 12,
   "metadata": {},
   "outputs": [
    {
     "data": {
      "text/plain": [
       "2"
      ]
     },
     "execution_count": 12,
     "metadata": {},
     "output_type": "execute_result"
    }
   ],
   "source": [
    "import re\n",
    "def solution(order):\n",
    "  return len(re.findall(\"[369]\",str(order)))\n",
    "\n",
    "solution(29423)"
   ]
  },
  {
   "cell_type": "code",
   "execution_count": 18,
   "metadata": {},
   "outputs": [
    {
     "data": {
      "text/plain": [
       "'We arthwold'"
      ]
     },
     "execution_count": 18,
     "metadata": {},
     "output_type": "execute_result"
    }
   ],
   "source": [
    "from collections import Counter\n",
    "\n",
    "def solution(my_string):\n",
    "    answer_list= []\n",
    "    c = Counter(my_string)\n",
    "    for v in my_string :\n",
    "      if v in c :\n",
    "        answer_list.append(v)\n",
    "        c.pop(v)\n",
    "    return ''.join(answer_list)\n",
    "\n",
    "solution(\"We are the world\")"
   ]
  },
  {
   "cell_type": "code",
   "execution_count": 27,
   "metadata": {},
   "outputs": [
    {
     "data": {
      "text/plain": [
       "10"
      ]
     },
     "execution_count": 27,
     "metadata": {},
     "output_type": "execute_result"
    }
   ],
   "source": [
    "def solution(n):\n",
    "  i = 0\n",
    "  factorial = 1\n",
    "  while (True) :\n",
    "    i += 1\n",
    "    factorial =  factorial * i\n",
    "    if factorial > n :\n",
    "      break\n",
    "  return i -1\n",
    "\n",
    "solution(3628800)"
   ]
  },
  {
   "cell_type": "code",
   "execution_count": 28,
   "metadata": {},
   "outputs": [
    {
     "data": {
      "text/plain": [
       "6"
      ]
     },
     "execution_count": 28,
     "metadata": {},
     "output_type": "execute_result"
    }
   ],
   "source": [
    "import math\n",
    "math.factorial(3)"
   ]
  }
 ],
 "metadata": {
  "kernelspec": {
   "display_name": "Python 3",
   "language": "python",
   "name": "python3"
  },
  "language_info": {
   "codemirror_mode": {
    "name": "ipython",
    "version": 3
   },
   "file_extension": ".py",
   "mimetype": "text/x-python",
   "name": "python",
   "nbconvert_exporter": "python",
   "pygments_lexer": "ipython3",
   "version": "3.11.1"
  },
  "orig_nbformat": 4,
  "vscode": {
   "interpreter": {
    "hash": "c261aea317cc0286b3b3261fbba9abdec21eaa57589985bb7a274bf54d6cc0a7"
   }
  }
 },
 "nbformat": 4,
 "nbformat_minor": 2
}
