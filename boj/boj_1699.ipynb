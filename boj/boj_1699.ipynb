{
 "cells": [
  {
   "cell_type": "markdown",
   "metadata": {},
   "source": [
    "백준 1699 제곱수의 합\n",
    "======================\n",
    "[1699문제 ](https://www.acmicpc.net/problem/1699 \"1699문제\")      \n",
    "\n",
    "```\n",
    "N = 1 -> 1              DP: 1    \n",
    "N = 2 -> 1 + 1          DP: 2        1**2 + DP[2-1]                                   중 MIN값    \n",
    "N = 3 -> 1 + 1 + 1      DP: 3        1**2 + DP[3-1]                                   중 MIN값     \n",
    "N = 4 -> 2              DP: 1        1**2 + DP[4-1], 2**2 + DP[4-4]                   중 MIN값    \n",
    "N = 5 -> 2 + 1          DP: 2        1**2 + DP[5-1], 2**2 + DP[5-4]                   중 MIN값    \n",
    "N = 6 -> 2 + 1 + 1      DP: 3        1**2 + DP[6-1], 2**2 + DP[6-4]                   중 MIN값    \n",
    "N = 7 -> 2 + 1 + 1 + 1  DP: 4        1**2 + DP[7-1], 2**2 + DP[7-4]                   중 MIN값    \n",
    "N = 8 -> 2 + 2          DP: 2        1**2 + DP[8-1], 2**2 + DP[8-4]                   중 MIN값    \n",
    "N = 9 -> 3              DP: 1        1**2 + DP[9-1], 2**2 + DP[9-4], 3**2 +DP[9-9]    중 MIN값    \n",
    "N = 10 -> 3 + 1         DP: 2        1**2 + DP[10-1], 2**2 + DP[10-4], 3**2 +DP[10-9] 중 MIN값    \n",
    "N = 11 -> 3 + 1 + 1     DP: 3        1**2 + DP[11-1], 2**2 + DP[11-4], 3**2 +DP[11-9] 중 MIN값    \n",
    "```\n",
    ".\n",
    ".\n",
    ".\n",
    "----------------------------------------------------------------------------------\n",
    "예를 들어 N =11 일경우     \n",
    "11= 1**2 + a ...       \n",
    "11= 2**2 + b ...    \n",
    "11= 3**2 + c ..     \n",
    "이렇게 3가지로 표현가능하다  11= 4**2 + d .. 이런식은 불가능하다 4의 제급하면 이미 11을 넘어서기 때문이다.      \n",
    "N = 11을 구하기 위해서는 N = 1 일때부터 N = 10까지 증가시키면서     \n",
    "항의 최소갯수를 미리 구해서 DP에 보관하고 있어야 한다.     \n",
    "1) 11= 1**2 + a 인경우 a를 제곱수의 합으로 표현하기 위한 항의 최소갯수는 이미 N=10 일때 구해져 있다.    \n",
    "2) 11= 2**2 + b 인경우 b를 제곱수의 합으로 표현하기 위한 항의 최소갯수는 이미 N=7 일때 구해져 있다.    \n",
    "3) 11= 3**2 + c 인경우 c를 제곱수의 합으로 표현하기 위한 항의 최소객수는 이미 N=2 일때 구해져 있다.    \n",
    "위 3가지 경우를 다 구해서 제일 작은수를 취하면된다.    \n",
    "\n"
   ]
  },
  {
   "cell_type": "code",
   "execution_count": 22,
   "metadata": {},
   "outputs": [
    {
     "name": "stdout",
     "output_type": "stream",
     "text": [
      "3\n"
     ]
    }
   ],
   "source": [
    "import sys\n",
    "# n = int(sys.stdin.readline().rstrip())\n",
    "n = int(input())\n",
    "dp = [x for x in range(n+1)]\n",
    "for i in range(1,n+1) :\n",
    "    maxj = int(float(i**(1/2)))+1\n",
    "    for j in range(1,maxj) :\n",
    "        if  j*j > n : break\n",
    "        if dp[i] > dp[i-j*j] + 1 :\n",
    "            dp[i] = dp[i-j*j] + 1\n",
    "        # dp[i] = min(dp[i],dp[i-j*j]+1)  <== 요건 시간초과 ㅠ\n",
    "    # print(dp)\n",
    "print(dp[-1])"
   ]
  }
 ],
 "metadata": {
  "interpreter": {
   "hash": "916dbcbb3f70747c44a77c7bcd40155683ae19c65e1c03b4aa3499c5328201f1"
  },
  "kernelspec": {
   "display_name": "Python 3.8.10 64-bit",
   "name": "python3"
  },
  "language_info": {
   "codemirror_mode": {
    "name": "ipython",
    "version": 3
   },
   "file_extension": ".py",
   "mimetype": "text/x-python",
   "name": "python",
   "nbconvert_exporter": "python",
   "pygments_lexer": "ipython3",
   "version": "3.8.10"
  },
  "orig_nbformat": 4
 },
 "nbformat": 4,
 "nbformat_minor": 2
}
