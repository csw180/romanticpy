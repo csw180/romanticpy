{
 "cells": [
  {
   "cell_type": "markdown",
   "metadata": {},
   "source": [
    "풀이방법\n",
    "--------\n",
    "\n",
    "f(k,n) : k개의 숫자를 선택해서 합이 n이 되는 경우의 수\n",
    "\n",
    "f(k,n) = f(k-1,n) + f(k-1,n-1) + f(k-1,n-2) + ... + f(k-1,0)     ---- 1식\n",
    "\n",
    "예)  2개의 숫자를 선택하여 5를 만드는 경우:f(2,5)  는\n",
    "- 1개의 숫자를 선택하여 합이 5가 되는 경우 => f(1,5), 나머지 한개의 숫자를 0으로 선택\n",
    "- 1개의 숫자를 선택하여 합이 4가 되는 경우 => f(1,4), 나머지 한개의 숫자를 1로 선택\n",
    "..\n",
    "- 1개의 숫자를 선택하여 합이 0가 되는 경우 => f(1,0), 나머지 한개의 숫자를 5로 선택\n",
    "의 합이라도 볼 수 있다\n",
    "\n",
    "위 1 식에서 n이 1 작은경우의 식을 만들어 내면\n",
    "f(k,n-1) = f(k-1,n-1) + f(k-1,n-2) + f(k-1,n-3) + ... + f(k-1,0)       ------ 2식\n",
    "\n",
    "1식과 2식에서 \n",
    "f(k,n) = f(k-1,n) + f(k,n-1)  \n",
    "\n",
    "|f(1,1)|f(1,2)|f(1,3)|.....|f(1,n)| \n",
    "|------|---|---|---|---|\n",
    "|f(2,1)|f(2,2)|f(2,3)|.....|.....|\n",
    "|f(3,1)|f(3,2)|f(3,3)|.....|.....|\n",
    "|f(4,1)|f(4,2)|f(4,3)|.....|f(k,n)|\n",
    "\n",
    "f(1,1) = f(1,2) = f(1,3) = .... f(1,n)  = 1     \n",
    "f(1,1) , f(2,1), f(3,1), f(4,1) .... , f(k,1) 의 값은 K     \n",
    "\n",
    "f(2,2) = f(1,2) + f(2,1)    \n",
    "f(2,3) = f(1,3) + f(2,2)     \n",
    "..     \n",
    "f(k,n) = f(k-1,n) + f(k,n-1)        \n",
    "\n",
    "이렇게 구해나가면 된다.    \n",
    "\n",
    "\n",
    "\n",
    "\n"
   ]
  },
  {
   "cell_type": "code",
   "execution_count": 13,
   "metadata": {},
   "outputs": [
    {
     "name": "stdout",
     "output_type": "stream",
     "text": [
      "21\n"
     ]
    }
   ],
   "source": [
    "import sys\n",
    "n,k  = map(int,input().split(\" \"))\n",
    "dp = [[0 for _ in range(n+1)] for _ in range(k+1)]\n",
    "for i in range(1,n+1) :\n",
    "    for j in range(1,k+1) :\n",
    "        if  j==1 : dp[j][i] = 1\n",
    "        elif  i==1 : dp[j][i] = j\n",
    "        else :\n",
    "            dp[j][i] = dp[j-1][i] + dp[j][i-1]\n",
    "\n",
    "print(dp[k][n] % 1000000000)\n"
   ]
  }
 ],
 "metadata": {
  "interpreter": {
   "hash": "916dbcbb3f70747c44a77c7bcd40155683ae19c65e1c03b4aa3499c5328201f1"
  },
  "kernelspec": {
   "display_name": "Python 3.8.10 64-bit",
   "name": "python3"
  },
  "language_info": {
   "codemirror_mode": {
    "name": "ipython",
    "version": 3
   },
   "file_extension": ".py",
   "mimetype": "text/x-python",
   "name": "python",
   "nbconvert_exporter": "python",
   "pygments_lexer": "ipython3",
   "version": "3.8.10"
  },
  "orig_nbformat": 4
 },
 "nbformat": 4,
 "nbformat_minor": 2
}
