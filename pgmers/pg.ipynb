{
 "cells": [
  {
   "attachments": {},
   "cell_type": "markdown",
   "metadata": {},
   "source": [
    "```\n",
    "https://school.programmers.co.kr/learn/courses/30/lessons/120887\n",
    "1부터 13까지의 수에서, 1은 1, 10, 11, 12, 13 이렇게 총 6번 등장합니다. 정수 i, j, k가 매개변수로 주어질 때, i부터 j까지 k가 몇 번 등장하는지 return 하도록 solution 함수를 완성해주세요.\n",
    "```"
   ]
  },
  {
   "cell_type": "code",
   "execution_count": null,
   "metadata": {},
   "outputs": [],
   "source": [
    "def solution(i, j, k):\n",
    "    return ''.join([str(v) for v in range(i,j+1) ]).count(str(k))"
   ]
  },
  {
   "cell_type": "code",
   "execution_count": 3,
   "metadata": {},
   "outputs": [
    {
     "name": "stdout",
     "output_type": "stream",
     "text": [
      "<class 'str'> b=[1, 2, 3]\n"
     ]
    }
   ],
   "source": [
    "a = [1,2,3]\n",
    "b = str(a)  # list를 그냥 str 로 변경하면 \"[1, 2, 3]\" 이런식의 문자열이 나온다 그대로 활용해도 문제없음\n",
    "print(type(b),f'b={b}')"
   ]
  },
  {
   "attachments": {},
   "cell_type": "markdown",
   "metadata": {},
   "source": [
    "```\n",
    "https://school.programmers.co.kr/learn/courses/30/lessons/120890?language=python3\n",
    "정수 배열 array와 정수 n이 매개변수로 주어질 때, array에 들어있는 정수 중 n과 가장 가까운 수를 return 하도록 solution 함수를 완성해주세요.\n",
    "```"
   ]
  },
  {
   "cell_type": "code",
   "execution_count": 7,
   "metadata": {},
   "outputs": [
    {
     "name": "stdout",
     "output_type": "stream",
     "text": [
      "12\n",
      "28\n"
     ]
    }
   ],
   "source": [
    "def solution(array, n):\n",
    "    sorted_art = sorted(array)\n",
    "    ans_tuple = tuple([sorted_art[0],abs(n-sorted_art[0])])\n",
    "    for v in sorted_art :\n",
    "        if abs(v-n) < ans_tuple[1] :\n",
    "            ans_tuple = (v,abs(v-n) )\n",
    "    \n",
    "    answer = ans_tuple[0]\n",
    "    return answer\n",
    "\n",
    "print(solution([10, 11, 12],13))\n",
    "print(solution([3, 10, 28],20))\n"
   ]
  },
  {
   "cell_type": "code",
   "execution_count": 10,
   "metadata": {},
   "outputs": [
    {
     "name": "stdout",
     "output_type": "stream",
     "text": [
      "12\n",
      "28\n"
     ]
    }
   ],
   "source": [
    "def solution(array, n):\n",
    "    answer_list = sorted(array, key= lambda x : (abs(x-n), x-n))\n",
    "    return answer_list[0]\n",
    "\n",
    "print(solution([10, 11, 12],13))\n",
    "print(solution([3, 10, 28],20))"
   ]
  },
  {
   "attachments": {},
   "cell_type": "markdown",
   "metadata": {},
   "source": [
    "```\n",
    "https://school.programmers.co.kr/learn/courses/30/lessons/120896?language=python3\n",
    "문자열 s가 매개변수로 주어집니다. s에서 한 번만 등장하는 문자를 사전 순으로 정렬한 문자열을 return 하도록 solution 함수를 완성해보세요. 한 번만 등장하는 문자가 없을 경우 빈 문자열을 return 합니다.\n",
    "```"
   ]
  },
  {
   "cell_type": "code",
   "execution_count": 24,
   "metadata": {},
   "outputs": [
    {
     "name": "stdout",
     "output_type": "stream",
     "text": [
      "d\n",
      "eho\n"
     ]
    }
   ],
   "source": [
    "from  collections import Counter\n",
    "def solution(s):\n",
    "    cnt = Counter(s)\n",
    "    return ''.join(dict(sorted(filter(lambda x : x[1]==1,cnt.items()))).keys())\n",
    "\n",
    "print(solution(\"abcabcadc\"))\n",
    "print(solution(\"hello\"))\n"
   ]
  },
  {
   "cell_type": "code",
   "execution_count": 26,
   "metadata": {},
   "outputs": [
    {
     "data": {
      "text/plain": [
       "dict_items"
      ]
     },
     "execution_count": 26,
     "metadata": {},
     "output_type": "execute_result"
    }
   ],
   "source": [
    "a = {\"1반\":23, \"2반\":34}\n",
    "type(a)\n",
    "type(a.items())"
   ]
  },
  {
   "attachments": {},
   "cell_type": "markdown",
   "metadata": {},
   "source": [
    "```\n",
    "https://school.programmers.co.kr/learn/courses/30/lessons/120913\n",
    "문자열 my_str과 n이 매개변수로 주어질 때, my_str을 길이 n씩 잘라서 저장한 배열을 return하도록 solution 함수를 완성해주세요.\n",
    "````"
   ]
  },
  {
   "cell_type": "code",
   "execution_count": 31,
   "metadata": {},
   "outputs": [
    {
     "name": "stdout",
     "output_type": "stream",
     "text": [
      "['abc1Ad', 'dfggg4', '556b']\n"
     ]
    }
   ],
   "source": [
    "def solution(my_str, n):\n",
    "    ans_list = []\n",
    "    pos = 0\n",
    "    while pos < len(my_str) :\n",
    "        ans_list.append(my_str[pos:pos+n])\n",
    "        pos += n\n",
    "\n",
    "    return ans_list\n",
    "\n",
    "\n",
    "print(solution(\"abc1Addfggg4556b\",6))"
   ]
  },
  {
   "attachments": {},
   "cell_type": "markdown",
   "metadata": {},
   "source": [
    "```\n",
    "https://school.programmers.co.kr/learn/courses/30/lessons/120835\n",
    "외과의사 머쓱이는 응급실에 온 환자의 응급도를 기준으로 진료 순서를 정하려고 합니다. 정수 배열 emergency가 매개변수로 주어질 때 응급도가 높은 순서대로 진료 순서를 정한 배열을 return하도록 solution 함수를 완성해주세요.\n",
    "```"
   ]
  },
  {
   "cell_type": "code",
   "execution_count": 47,
   "metadata": {},
   "outputs": [
    {
     "name": "stdout",
     "output_type": "stream",
     "text": [
      "[100, 30, 23, 10, 6]\n",
      "{100: 1, 30: 2, 23: 3, 10: 4, 6: 5}\n",
      "[2, 4, 3, 5, 1]\n"
     ]
    }
   ],
   "source": [
    "def solution(emergency):\n",
    "    sorted_emr = sorted(emergency,reverse=True)\n",
    "    d = dict()\n",
    "    for i,v in enumerate(sorted_emr) :\n",
    "        d[v] = i+1\n",
    "    return [ d[v] for v in emergency ]\n",
    "\n",
    "print(solution([30, 10, 23, 6, 100]))"
   ]
  },
  {
   "attachments": {},
   "cell_type": "markdown",
   "metadata": {},
   "source": [
    "```\n",
    "https://school.programmers.co.kr/learn/courses/30/lessons/120894?language=python3\n",
    "영어가 싫은 머쓱이는 영어로 표기되어있는 숫자를 수로 바꾸려고 합니다. 문자열 numbers가 매개변수로 주어질 때, numbers를 정수로 바꿔 return 하도록 solution 함수를 완성해 주세요.\n",
    "```"
   ]
  },
  {
   "cell_type": "code",
   "execution_count": null,
   "metadata": {},
   "outputs": [],
   "source": [
    "import re\n",
    "num = [\"zero\", \"one\", \"two\", \"three\", \"four\", \"five\", \"six\", \"seven\", \"eight\", \"nine\"] \n",
    "re.subb('/(?:/g')"
   ]
  },
  {
   "cell_type": "code",
   "execution_count": 17,
   "metadata": {},
   "outputs": [
    {
     "name": "stdout",
     "output_type": "stream",
     "text": [
      "14067\n"
     ]
    }
   ],
   "source": [
    "import re\n",
    "def solution(numbers):\n",
    "    answer = []\n",
    "    txt =  {\"zero\":\"0\",\n",
    "            \"one\":\"1\",\n",
    "            \"two\":\"2\",\n",
    "            \"three\":\"3\",\n",
    "            \"four\":\"4\",\n",
    "            \"five\":\"5\",\n",
    "            \"six\":\"6\",\n",
    "            \"seven\":\"7\",\n",
    "            \"eight\":\"8\",\n",
    "            \"nine\":\"9\"}\n",
    "    result =re.findall(\"zero|one|two|three|four|five|six|seven|eight|nine\",numbers)\n",
    "    for v in result :\n",
    "        answer.append(txt[v])\n",
    "    return int(''.join(answer))\n",
    "\n",
    "print(solution(\"onefourzerosixseven\"))\n"
   ]
  },
  {
   "cell_type": "code",
   "execution_count": 30,
   "metadata": {},
   "outputs": [
    {
     "name": "stdout",
     "output_type": "stream",
     "text": [
      "dic = sod, count_list=[0, 1, 1]\n",
      "dic = eocd, count_list=[0, 1, 0]\n",
      "dic = qixm, count_list=[0, 0, 0]\n",
      "dic = adio, count_list=[0, 1, 0]\n",
      "dic = soo, count_list=[0, 2, 1]\n",
      "2\n",
      "dic = moos, count_list=[1, 2, 1, 0]\n",
      "dic = dzx, count_list=[0, 0, 0, 1]\n",
      "dic = smm, count_list=[1, 0, 2, 0]\n",
      "dic = sunmmo, count_list=[1, 1, 2, 0]\n",
      "dic = som, count_list=[1, 1, 1, 0]\n",
      "2\n",
      "dic = def, count_list=[0, 1, 0]\n",
      "dic = dww, count_list=[0, 1, 0]\n",
      "1\n"
     ]
    }
   ],
   "source": [
    "from collections import Counter\n",
    "\n",
    "def solution(spell, dic):\n",
    "    for v in dic :\n",
    "        dic_counter = Counter(v)\n",
    "        count_list = list(map(lambda x: dic_counter[x] , spell))\n",
    "        if count_list == [1]*len(spell) :\n",
    "            return 1\n",
    "        print(f'dic = {v}, count_list={count_list}')\n",
    "    return 2\n",
    "\n",
    "print(solution([\"p\", \"o\", \"s\"],[\"sod\", \"eocd\", \"qixm\", \"adio\", \"soo\"]))\n",
    "print(solution([\"s\", \"o\", \"m\", \"d\"],[\"moos\", \"dzx\", \"smm\", \"sunmmo\", \"som\"]))\n",
    "print(solution([\"z\", \"d\", \"x\"],[\"def\", \"dww\", \"dzx\", \"loveaw\"]))\n",
    "\n"
   ]
  },
  {
   "cell_type": "code",
   "execution_count": 29,
   "metadata": {},
   "outputs": [
    {
     "data": {
      "text/plain": [
       "True"
      ]
     },
     "execution_count": 29,
     "metadata": {},
     "output_type": "execute_result"
    }
   ],
   "source": [
    "a = [1,1,1,1]\n",
    "b= [1]*4\n",
    "a==b"
   ]
  },
  {
   "attachments": {},
   "cell_type": "markdown",
   "metadata": {},
   "source": [
    "```\n",
    "https://school.programmers.co.kr/learn/courses/30/lessons/120921?language=python3\n",
    "문자열 \"hello\"에서 각 문자를 오른쪽으로 한 칸씩 밀고 마지막 문자는 맨 앞으로 이동시키면 \"ohell\"이 됩니다. 이것을 문자열을 민다고 정의한다면 문자열 A와 B가 매개변수로 주어질 때, A를 밀어서 B가 될 수 있다면 밀어야 하는 최소 횟수를 return하고 밀어서 B가 될 수 없으면 -1을 return 하도록 solution 함수를 완성해보세요.\n",
    "```"
   ]
  },
  {
   "cell_type": "code",
   "execution_count": 38,
   "metadata": {},
   "outputs": [
    {
     "name": "stdout",
     "output_type": "stream",
     "text": [
      "1\n"
     ]
    }
   ],
   "source": [
    "from collections import deque\n",
    "\n",
    "def solution(a, b):\n",
    "    d=deque(a)\n",
    "    cnt=0\n",
    "    while ( cnt < len(a)) :\n",
    "        if  ''.join(d) == b :\n",
    "            return 1\n",
    "        d.rotate()\n",
    "        cnt +=1\n",
    "    return -1\n",
    "\n",
    "print(solution(\"hello\",\"ohell\"))"
   ]
  },
  {
   "cell_type": "code",
   "execution_count": 39,
   "metadata": {},
   "outputs": [
    {
     "data": {
      "text/plain": [
       "deque(['o', 'h', 'e', 'l', 'l'])"
      ]
     },
     "execution_count": 39,
     "metadata": {},
     "output_type": "execute_result"
    }
   ],
   "source": [
    "a ='hello'\n",
    "d = deque(a)\n",
    "d.rotate()\n",
    "d"
   ]
  },
  {
   "attachments": {},
   "cell_type": "markdown",
   "metadata": {},
   "source": [
    "```\n",
    "https://school.programmers.co.kr/learn/courses/30/lessons/120853\n",
    "숫자와 \"Z\"가 공백으로 구분되어 담긴 문자열이 주어집니다. 문자열에 있는 숫자를 차례대로 더하려고 합니다. 이 때 \"Z\"가 나오면 바로 전에 더했던 숫자를 뺀다는 뜻입니다. 숫자와 \"Z\"로 이루어진 문자열 s가 주어질 때, 머쓱이가 구한 값을 return 하도록 solution 함수를 완성해보세요.\n",
    "```\n"
   ]
  },
  {
   "cell_type": "code",
   "execution_count": 7,
   "metadata": {},
   "outputs": [
    {
     "name": "stdout",
     "output_type": "stream",
     "text": [
      "4\n",
      "100\n"
     ]
    }
   ],
   "source": [
    "def solution(s):\n",
    "    s_ary = s.split(\" \")\n",
    "    ans_list = [int(v) if v!='Z' else (-1)* int(s_ary[i-1]) for i,v in enumerate(s_ary)]\n",
    "    return sum(ans_list)\n",
    "\n",
    "\n",
    "print(solution(\"1 2 Z 3\"))\n",
    "print(solution(\"10 20 30 40\"))\n"
   ]
  },
  {
   "attachments": {},
   "cell_type": "markdown",
   "metadata": {},
   "source": [
    "```\n",
    "https://school.programmers.co.kr/learn/courses/30/lessons/120882?language=python3\n",
    "영어 점수와 수학 점수의 평균 점수를 기준으로 학생들의 등수를 매기려고 합니다. 영어 점수와 수학 점수를 담은 2차원 정수 배열 score가 주어질 때, 영어 점수와 수학 점수의 평균을 기준으로 매긴 등수를 담은 배열을 return하도록 solution 함수를 완성해주세요.\n",
    "```"
   ]
  },
  {
   "cell_type": "code",
   "execution_count": 38,
   "metadata": {},
   "outputs": [
    {
     "name": "stdout",
     "output_type": "stream",
     "text": [
      "[75.0, 70.0, 55.0, 65.0]\n",
      "{75.0: 1, 70.0: 2, 65.0: 3, 55.0: 4}\n",
      "[1, 2, 4, 3]\n",
      "[1, 2, 4, 3]\n",
      "[75.0, 75.0, 40.0, 95.0, 95.0, 100.0, 20.0]\n",
      "{100.0: 1, 95.0: 2, 75.0: 4, 40.0: 6, 20.0: 7}\n",
      "[4, 4, 6, 2, 2, 1, 7]\n",
      "[4, 4, 6, 2, 2, 1, 7]\n"
     ]
    }
   ],
   "source": [
    "def solution(score):\n",
    "    avg_ary = list(map(lambda x : (x[0]+x[1])/2,score))\n",
    "    rank_dic = dict()\n",
    "    for i,v in enumerate(sorted(avg_ary,reverse=True)) :\n",
    "        if rank_dic.get(v) is None :\n",
    "            rank_dic[v] = i+1\n",
    "    rank_ary = [rank_dic[v] for v in avg_ary]\n",
    "    # print(avg_ary)\n",
    "    # print(rank_dic)\n",
    "    # print(rank_ary)\n",
    "    return rank_ary\n",
    "\n",
    "print(solution([[80, 70], [90, 50], [40, 70], [50, 80]]))\n",
    "print(solution([[80, 70], [70, 80], [30, 50], [90, 100], [100, 90], [100, 100], [10, 30]]))\n"
   ]
  },
  {
   "cell_type": "code",
   "execution_count": 43,
   "metadata": {},
   "outputs": [
    {
     "name": "stdout",
     "output_type": "stream",
     "text": [
      "[1, 2, 4, 3]\n",
      "[4, 4, 6, 2, 2, 1, 7]\n"
     ]
    }
   ],
   "source": [
    "def solution(score):\n",
    "    avg_ary = sorted(list(map(lambda x : sum(x),score)),reverse=True)\n",
    "    rank_ary = [avg_ary.index(sum(v))+1 for v in score]\n",
    "    return rank_ary\n",
    "\n",
    "print(solution([[80, 70], [90, 50], [40, 70], [50, 80]]))\n",
    "print(solution([[80, 70], [70, 80], [30, 50], [90, 100], [100, 90], [100, 100], [10, 30]]))"
   ]
  },
  {
   "cell_type": "code",
   "execution_count": 36,
   "metadata": {},
   "outputs": [
    {
     "ename": "SyntaxError",
     "evalue": "invalid syntax (2744394359.py, line 3)",
     "output_type": "error",
     "traceback": [
      "\u001b[1;36m  Cell \u001b[1;32mIn[36], line 3\u001b[1;36m\u001b[0m\n\u001b[1;33m    d.'b'\u001b[0m\n\u001b[1;37m      ^\u001b[0m\n\u001b[1;31mSyntaxError\u001b[0m\u001b[1;31m:\u001b[0m invalid syntax\n"
     ]
    }
   ],
   "source": [
    "d = dict()\n",
    "d['a'] = 3"
   ]
  },
  {
   "cell_type": "code",
   "execution_count": 24,
   "metadata": {},
   "outputs": [
    {
     "name": "stdout",
     "output_type": "stream",
     "text": [
      "[0 2 3 1 4]\n",
      "[1, 5, 7, 8, 9]\n"
     ]
    }
   ],
   "source": [
    "import numpy as np\n",
    "\n",
    "array = np.array([1,8,5,7,9])\n",
    "temp = array.argsort()\n",
    "rank_ary = [array[v] for v in temp]\n",
    "print(temp)\n",
    "print(rank_ary)"
   ]
  },
  {
   "attachments": {},
   "cell_type": "markdown",
   "metadata": {},
   "source": [
    "```\n",
    "https://school.programmers.co.kr/learn/courses/30/lessons/120871\n",
    "3x 마을 사람들은 3을 저주의 숫자라고 생각하기 때문에 3의 배수와 숫자 3을 사용하지 않습니다. 3x 마을 사람들의 숫자는 다음과 같습니다.\n",
    "```"
   ]
  },
  {
   "cell_type": "code",
   "execution_count": 76,
   "metadata": {},
   "outputs": [
    {
     "name": "stdout",
     "output_type": "stream",
     "text": [
      "[1, 2, 4, 5, 7, 8, 10, 11, 14, 16, 17, 19, 20, 22, 25, 26, 28, 29, 40, 41, 44, 46, 47, 49, 50, 52, 55, 56, 58, 59, 61, 62, 64, 65, 67, 68, 70, 71, 74, 76, 77, 79, 80, 82, 85, 86, 88, 89, 91, 92, 94, 95, 97, 98, 100, 101, 104, 106, 107, 109, 110, 112, 115, 116, 118, 119, 121, 122, 124, 125, 127, 128, 140, 142, 145, 146, 148, 149, 151, 152, 154, 155, 157, 158, 160, 161, 164, 166, 167, 169, 170, 172, 175, 176, 178, 179, 181, 182, 184, 185, 187, 188, 190, 191, 194, 196, 197, 199]\n",
      "185\n"
     ]
    }
   ],
   "source": [
    "def solution(n):\n",
    "    # numbers = list( map(lambda x : int(''.join(x))\n",
    "    #                 ,filter(lambda v : v.count('3') == 0 and int(''.join(v)) % 3 != 0\n",
    "    #                                 ,[list(str(v)) for v in range(101)])))\n",
    "    numbers = list(filter(lambda v : str(v).count('3') == 0 and v % 3 != 0,[v for v in range(200)]))\n",
    "    print(numbers)\n",
    "    return numbers[n-1]\n",
    "\n",
    "print(solution(100))"
   ]
  },
  {
   "cell_type": "code",
   "execution_count": 81,
   "metadata": {},
   "outputs": [
    {
     "name": "stdout",
     "output_type": "stream",
     "text": [
      "a.count= 0\n",
      "b.count= 1\n"
     ]
    }
   ],
   "source": [
    "# list, str 에서 어떤 문자를 찾는데 유용 없어도 에러발생없이 0 으로 리턴되므로 조아\n",
    "a= 'ab'\n",
    "print(f\"a.count= {a.count('c')}\")\n",
    "\n",
    "b ='bcde'\n",
    "print(f\"b.count= {b.count('cd')}\")\n"
   ]
  },
  {
   "attachments": {},
   "cell_type": "markdown",
   "metadata": {},
   "source": [
    "```\n",
    "https://school.programmers.co.kr/learn/courses/30/lessons/120863?language=python3\n",
    "한 개 이상의 항의 합으로 이루어진 식을 다항식이라고 합니다. 다항식을 계산할 때는 동류항끼리 계산해 정리합니다. 덧셈으로 이루어진 다항식 polynomial이 매개변수로 주어질 때, 동류항끼리 더한 결괏값을 문자열로 return 하도록 solution 함수를 완성해보세요. 같은 식이라면 가장 짧은 수식을 return 합니다.\n",
    "```"
   ]
  },
  {
   "cell_type": "code",
   "execution_count": 100,
   "metadata": {},
   "outputs": [
    {
     "name": "stdout",
     "output_type": "stream",
     "text": [
      "4x + 7\n",
      "3x\n"
     ]
    }
   ],
   "source": [
    "def solution(polynomial):\n",
    "    polys = list(filter(lambda x : x!=\"+\",polynomial.split(\" \")))\n",
    "    result = [0,0]\n",
    "    for v in polys :\n",
    "        if 'x' in v :\n",
    "            result[0] += int('1' if v ==\"x\" else v[:-1])\n",
    "        else :\n",
    "            result[1] += int(v)\n",
    "    ans_1d, ans_const = \"\", \"\"\n",
    "\n",
    "    if  result[0]==1 :\n",
    "        ans_1d = \"x\"\n",
    "    elif result[0] > 1 :\n",
    "        ans_1d = str(result[0])+\"x\"\n",
    "    \n",
    "    if  result[1] > 0 :\n",
    "        if  ans_1d == \"\":\n",
    "            ans_const = str(result[1])\n",
    "        else :\n",
    "            ans_const = \" + \"+str(result[1])\n",
    "    return ans_1d + ans_const\n",
    "\n",
    "print(solution(\"3x + 7 + x\"))\n",
    "print(solution(\"x + x + x\"))\n"
   ]
  },
  {
   "cell_type": "code",
   "execution_count": 92,
   "metadata": {},
   "outputs": [
    {
     "name": "stdout",
     "output_type": "stream",
     "text": [
      "\n"
     ]
    }
   ],
   "source": [
    "b=\"\"\n",
    "print(b[:-1])"
   ]
  }
 ],
 "metadata": {
  "kernelspec": {
   "display_name": "Python 3",
   "language": "python",
   "name": "python3"
  },
  "language_info": {
   "codemirror_mode": {
    "name": "ipython",
    "version": 3
   },
   "file_extension": ".py",
   "mimetype": "text/x-python",
   "name": "python",
   "nbconvert_exporter": "python",
   "pygments_lexer": "ipython3",
   "version": "3.11.1"
  },
  "orig_nbformat": 4,
  "vscode": {
   "interpreter": {
    "hash": "c261aea317cc0286b3b3261fbba9abdec21eaa57589985bb7a274bf54d6cc0a7"
   }
  }
 },
 "nbformat": 4,
 "nbformat_minor": 2
}
