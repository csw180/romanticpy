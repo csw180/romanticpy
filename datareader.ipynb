{
  "cells": [
    {
      "cell_type": "markdown",
      "metadata": {
        "colab_type": "text",
        "id": "view-in-github"
      },
      "source": [
        "<a href=\"https://colab.research.google.com/github/csw180/romanticpy/blob/main/datareader.ipynb\" target=\"_parent\"><img src=\"https://colab.research.google.com/assets/colab-badge.svg\" alt=\"Open In Colab\"/></a>"
      ]
    },
    {
      "cell_type": "code",
      "execution_count": null,
      "metadata": {
        "id": "0sWK55Wlc2zs"
      },
      "outputs": [],
      "source": [
        "!pip install pandas-datareader"
      ]
    },
    {
      "cell_type": "code",
      "execution_count": null,
      "metadata": {
        "id": "mWIsdOH3c1G3"
      },
      "outputs": [],
      "source": [
        "import pandas_datareader.data as web\n",
        "import pandas as pd\n",
        "import datetime\n",
        "\n",
        "start = datetime.datetime(2021,10,1)\n",
        "end = datetime.datetime(2022,2, 24)\n",
        "# samsung_df = web.DataReader('005930', 'naver', start='2021-10-01', end='2022-02-24')\n",
        "# samsung_df = web.DataReader('005930', 'naver',start='2021-01-01')\n",
        "samsung_df = web.DataReader('230360', 'naver')\n",
        "# samsung_df = web.DataReader('006890', 'naver')\n",
        "\n",
        "samsung_df['ma5'] = samsung_df['Close'].rolling(window=5).mean()\n",
        "samsung_df['ma20'] = samsung_df['Close'].rolling(window=20).mean()\n",
        "samsung_df['vma20'] = samsung_df['Volume'].rolling(window=20).mean()\n",
        "samsung_df['ma60'] = samsung_df['Close'].rolling(window=60).mean()\n",
        "samsung_df['ma120'] = samsung_df['Close'].rolling(window=120).mean()\n",
        "samsung_df['ma240'] = samsung_df['Close'].rolling(window=240).mean()\n",
        "\n",
        "samsung_df['Open'] = samsung_df['Open'].astype(float, errors = 'raise')\n",
        "samsung_df['High'] = samsung_df['High'].astype(float, errors = 'raise')\n",
        "samsung_df['Low'] = samsung_df['Low'].astype(float, errors = 'raise')\n",
        "samsung_df['Close'] = samsung_df['Close'].astype(float, errors = 'raise')\n",
        "samsung_df['Volume'] = samsung_df['Volume'].astype(float, errors = 'raise')\n",
        "\n",
        "# print(samsung_df)\n",
        "samsung_df = samsung_df.dropna()\n",
        "samsung_df.info()"
      ]
    },
    {
      "cell_type": "code",
      "execution_count": null,
      "metadata": {
        "id": "Ja_XlyKhggLn"
      },
      "outputs": [],
      "source": [
        "import matplotlib.pyplot as plt\n",
        "plt.figure(figsize=(9,5))\n",
        "plt.plot(samsung_df.index, samsung_df['ma5'], label=\"MA5\")\n",
        "plt.plot(samsung_df.index, samsung_df['ma20'], label=\"MA20\")\n",
        "plt.plot(samsung_df.index, samsung_df['ma60'], label=\"MA60\")\n",
        "plt.plot(samsung_df.index, samsung_df['ma120'], label=\"MA120\")\n",
        "plt.legend(loc='best')\n",
        "plt.grid()\n",
        "plt.show()"
      ]
    },
    {
      "cell_type": "code",
      "execution_count": null,
      "metadata": {
        "id": "Iij06Td5Bjbz"
      },
      "outputs": [],
      "source": [
        "import numpy as np\n",
        "\n",
        "samsung_df['asc'] = samsung_df['Close'] / samsung_df['Open'] - 1\n",
        "samsung_df['ma20_asc']=samsung_df['ma20'] - samsung_df['ma20'].shift(1)\n",
        "#20이평선 연속3봉 내림새이다가 금일 돌려세움. 거래량20이평보다 2배이상 터질것. 당일양봉일것\n",
        "samsung_df['buy'] = np.where( (samsung_df['ma20_asc'] > 0) &\\\n",
        "          (samsung_df['ma20_asc'].shift(1) < 0) & (samsung_df['ma20_asc'].shift(2) < 0) & (samsung_df['ma20_asc'].shift(3) < 0) &\\\n",
        "          (samsung_df['Volume'] > samsung_df['vma20'] * 2.0) &\\\n",
        "          (samsung_df['asc'] > 0) , 'OK', '')\n",
        "samsung_df = samsung_df[::-1]\n",
        "samsung_df['maxhigh'] = samsung_df['High'].rolling(window=20).max()\n",
        "samsung_df['status'] = np.where( (samsung_df['buy'] == 'OK') & ( (samsung_df['Close'] * 1.033) < samsung_df['maxhigh']),'Success','Fail' )\n",
        "samsung_df = samsung_df[samsung_df['buy'] == 'OK']\n",
        "# samsung_df['2021-11-05']\n",
        "\n",
        "samsung_df"
      ]
    }
  ],
  "metadata": {
    "colab": {
      "authorship_tag": "ABX9TyNns68mebGMd8jY5lP4Nmy7",
      "collapsed_sections": [],
      "include_colab_link": true,
      "name": "Untitled0.ipynb의 사본",
      "private_outputs": true,
      "provenance": []
    },
    "kernelspec": {
      "display_name": "Python 3",
      "language": "python",
      "name": "python3"
    },
    "language_info": {
      "name": "python",
      "version": "3.11.1 (tags/v3.11.1:a7a450f, Dec  6 2022, 19:58:39) [MSC v.1934 64 bit (AMD64)]"
    },
    "vscode": {
      "interpreter": {
        "hash": "c261aea317cc0286b3b3261fbba9abdec21eaa57589985bb7a274bf54d6cc0a7"
      }
    }
  },
  "nbformat": 4,
  "nbformat_minor": 0
}
