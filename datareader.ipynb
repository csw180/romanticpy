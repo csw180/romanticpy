{
 "cells": [
  {
   "cell_type": "markdown",
   "metadata": {},
   "source": [
    "# DataReader를 이용하여 Naver 에서 삼성전자 주가를 가져와서 그래프로 그려낸다."
   ]
  },
  {
   "cell_type": "code",
   "execution_count": 14,
   "metadata": {},
   "outputs": [
    {
     "data": {
      "text/html": [
       "<div>\n",
       "<style scoped>\n",
       "    .dataframe tbody tr th:only-of-type {\n",
       "        vertical-align: middle;\n",
       "    }\n",
       "\n",
       "    .dataframe tbody tr th {\n",
       "        vertical-align: top;\n",
       "    }\n",
       "\n",
       "    .dataframe thead th {\n",
       "        text-align: right;\n",
       "    }\n",
       "</style>\n",
       "<table border=\"1\" class=\"dataframe\">\n",
       "  <thead>\n",
       "    <tr style=\"text-align: right;\">\n",
       "      <th></th>\n",
       "      <th>Open</th>\n",
       "      <th>High</th>\n",
       "      <th>Low</th>\n",
       "      <th>Close</th>\n",
       "      <th>Volume</th>\n",
       "    </tr>\n",
       "    <tr>\n",
       "      <th>Date</th>\n",
       "      <th></th>\n",
       "      <th></th>\n",
       "      <th></th>\n",
       "      <th></th>\n",
       "      <th></th>\n",
       "    </tr>\n",
       "  </thead>\n",
       "  <tbody>\n",
       "    <tr>\n",
       "      <th>2021-10-25</th>\n",
       "      <td>69900</td>\n",
       "      <td>70600</td>\n",
       "      <td>69500</td>\n",
       "      <td>70200</td>\n",
       "      <td>10029621</td>\n",
       "    </tr>\n",
       "    <tr>\n",
       "      <th>2021-10-26</th>\n",
       "      <td>70600</td>\n",
       "      <td>71500</td>\n",
       "      <td>70400</td>\n",
       "      <td>71100</td>\n",
       "      <td>10528252</td>\n",
       "    </tr>\n",
       "    <tr>\n",
       "      <th>2021-10-27</th>\n",
       "      <td>71000</td>\n",
       "      <td>71000</td>\n",
       "      <td>70000</td>\n",
       "      <td>70100</td>\n",
       "      <td>10295316</td>\n",
       "    </tr>\n",
       "    <tr>\n",
       "      <th>2021-10-28</th>\n",
       "      <td>69500</td>\n",
       "      <td>72200</td>\n",
       "      <td>69500</td>\n",
       "      <td>70700</td>\n",
       "      <td>20644902</td>\n",
       "    </tr>\n",
       "    <tr>\n",
       "      <th>2021-10-29</th>\n",
       "      <td>71200</td>\n",
       "      <td>71600</td>\n",
       "      <td>69700</td>\n",
       "      <td>69800</td>\n",
       "      <td>16497812</td>\n",
       "    </tr>\n",
       "  </tbody>\n",
       "</table>\n",
       "</div>"
      ],
      "text/plain": [
       "             Open   High    Low  Close    Volume\n",
       "Date                                            \n",
       "2021-10-25  69900  70600  69500  70200  10029621\n",
       "2021-10-26  70600  71500  70400  71100  10528252\n",
       "2021-10-27  71000  71000  70000  70100  10295316\n",
       "2021-10-28  69500  72200  69500  70700  20644902\n",
       "2021-10-29  71200  71600  69700  69800  16497812"
      ]
     },
     "execution_count": 14,
     "metadata": {},
     "output_type": "execute_result"
    }
   ],
   "source": [
    "import pandas_datareader.data as web\n",
    "import pandas as pd\n",
    "df = web.DataReader('005930', 'naver', start='2021-10-01', end='2021-10-31')\n",
    "df.tail()"
   ]
  },
  {
   "cell_type": "code",
   "execution_count": 19,
   "metadata": {},
   "outputs": [
    {
     "data": {
      "text/plain": [
       "Open      object\n",
       "High      object\n",
       "Low       object\n",
       "Close     object\n",
       "Volume    object\n",
       "dtype: object"
      ]
     },
     "execution_count": 19,
     "metadata": {},
     "output_type": "execute_result"
    }
   ],
   "source": [
    "df.dtypes"
   ]
  },
  {
   "cell_type": "markdown",
   "metadata": {},
   "source": [
    "## 칼럼타임이 모두 Object 타입이라 정수형으로 형변환한다."
   ]
  },
  {
   "cell_type": "code",
   "execution_count": 21,
   "metadata": {},
   "outputs": [
    {
     "data": {
      "text/plain": [
       "Open      int64\n",
       "High      int64\n",
       "Low       int64\n",
       "Close     int64\n",
       "Volume    int64\n",
       "dtype: object"
      ]
     },
     "execution_count": 21,
     "metadata": {},
     "output_type": "execute_result"
    }
   ],
   "source": [
    "df[['Open','High','Low','Close','Volume']] = df[['Open','High','Low','Close','Volume']].apply(pd.to_numeric)\n",
    "df.dtypes"
   ]
  },
  {
   "cell_type": "code",
   "execution_count": 22,
   "metadata": {},
   "outputs": [
    {
     "data": {
      "image/png": "[encoded data removed]",
      "text/plain": [
       "<Figure size 432x288 with 1 Axes>"
      ]
     },
     "metadata": {
      "needs_background": "light"
     },
     "output_type": "display_data"
    }
   ],
   "source": [
    "import matplotlib.pyplot as plt\n",
    "plt.rc('font', family='NanumGothic')\n",
    "plt.title('삼성전자')\n",
    "plt.plot(df.Close,'bs--')\n",
    "plt.xticks(df.index)\n",
    "plt.yticks(df.Close.values)\n",
    "plt.grid(True)\n",
    "plt.savefig('test.png')\n",
    "plt.show()"
   ]
  },
  {
   "cell_type": "markdown",
   "metadata": {},
   "source": [
    "# pyplot으로 그린 도표에 한글이 깨지는 현상 해결방법\n",
    "\n",
    "## 한글 나눔폰트를 시스템에 설치한다.\n",
    "- $ sudo apt-get update\n",
    "- $ sudo apt-get install fonts-nanum* \n",
    "- /usr/share/fonts 밑에 nanum 폴더 생기고 폰트가 들어가 있다.\n",
    "\n",
    "## 폰트캐쉬는 삭제해준다.\n",
    "- $ sudo fc-cache -fv\n",
    "\n",
    "## pip 를 통하여 설치한 matplotlib 의 설치경로를 확인한다\n",
    "- pip show matplotlib\n",
    "  Location: /home/demian/.local/lib/python3.8/site-packages\n",
    "\n",
    "## 시스템 폰트를 matplotlib가 사용는 폰트공간으로 copy 한다. \n",
    "-  cp /usr/share/fonts/truetype/nanum/*.* ~/.local/lib/python3.8/site-packages/matplotlib/mpl-data/fonts/ttf/.\n",
    "\n",
    "## fontManager를 이용하여 폰트가 나타나는지 확인\n",
    "    from matplotlib import font_manager as fm\n",
    "    for font in fm.fontManager.ttflist:\n",
    "        if 'Nanum' in font.name :\n",
    "            print(font.name,font.fname)\n",
    "\n",
    "##  참고로 시스템의 폰트를 보는 방법.\n",
    "    sys_font=fm.findSystemFonts()\n",
    "    print(sys_font)\n"
   ]
  }
 ],
 "metadata": {
  "interpreter": {
   "hash": "916dbcbb3f70747c44a77c7bcd40155683ae19c65e1c03b4aa3499c5328201f1"
  },
  "kernelspec": {
   "display_name": "Python 3.8.10 64-bit",
   "name": "python3"
  },
  "language_info": {
   "codemirror_mode": {
    "name": "ipython",
    "version": 3
   },
   "file_extension": ".py",
   "mimetype": "text/x-python",
   "name": "python",
   "nbconvert_exporter": "python",
   "pygments_lexer": "ipython3",
   "version": "3.8.10"
  },
  "orig_nbformat": 4
 },
 "nbformat": 4,
 "nbformat_minor": 2
}
