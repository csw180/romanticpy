{
  "nbformat": 4,
  "nbformat_minor": 0,
  "metadata": {
    "colab": {
      "name": "Untitled0.ipynb",
      "private_outputs": true,
      "provenance": [],
      "collapsed_sections": [],
      "authorship_tag": "ABX9TyNoq7CwnVvXKaeCATPJOYIu",
      "include_colab_link": true
    },
    "kernelspec": {
      "name": "python3",
      "display_name": "Python 3"
    },
    "language_info": {
      "name": "python"
    }
  },
  "cells": [
    {
      "cell_type": "markdown",
      "metadata": {
        "id": "view-in-github",
        "colab_type": "text"
      },
      "source": [
        "<a href=\"https://colab.research.google.com/github/csw180/romanticpy/blob/main/datareader.ipynb\" target=\"_parent\"><img src=\"https://colab.research.google.com/assets/colab-badge.svg\" alt=\"Open In Colab\"/></a>"
      ]
    },
    {
      "cell_type": "code",
      "source": [
        "!pip install pandas-datareader"
      ],
      "metadata": {
        "id": "0sWK55Wlc2zs"
      },
      "execution_count": null,
      "outputs": []
    },
    {
      "cell_type": "code",
      "execution_count": null,
      "metadata": {
        "id": "mWIsdOH3c1G3"
      },
      "outputs": [],
      "source": [
        "import pandas_datareader.data as web\n",
        "import pandas as pd\n",
        "import datetime\n",
        "\n",
        "start = datetime.datetime(2021,10,1)\n",
        "end = datetime.datetime(2022,2, 24)\n",
        "# samsung_df = web.DataReader('005930', 'naver', start='2021-10-01', end='2022-02-24')\n",
        "# samsung_df = web.DataReader('005930', 'naver',start='2021-01-01')\n",
        "samsung_df = web.DataReader('225590', 'naver')\n",
        "# samsung_df = web.DataReader('006890', 'naver')\n",
        "\n",
        "samsung_df['ma5'] = samsung_df['Close'].rolling(window=5).mean()\n",
        "samsung_df['ma20'] = samsung_df['Close'].rolling(window=20).mean()\n",
        "samsung_df['ma60'] = samsung_df['Close'].rolling(window=60).mean()\n",
        "samsung_df['ma120'] = samsung_df['Close'].rolling(window=120).mean()\n",
        "samsung_df['ma240'] = samsung_df['Close'].rolling(window=240).mean()\n",
        "\n",
        "samsung_df['Open'] = samsung_df['Open'].astype(float, errors = 'raise')\n",
        "samsung_df['High'] = samsung_df['High'].astype(float, errors = 'raise')\n",
        "samsung_df['Low'] = samsung_df['Low'].astype(float, errors = 'raise')\n",
        "samsung_df['Close'] = samsung_df['Close'].astype(float, errors = 'raise')\n",
        "samsung_df['Volume'] = samsung_df['Volume'].astype(float, errors = 'raise')\n",
        "\n",
        "# print(samsung_df)\n",
        "samsung_df = samsung_df.dropna()\n",
        "samsung_df.info()"
      ]
    },
    {
      "cell_type": "code",
      "source": [
        "import matplotlib.pyplot as plt\n",
        "plt.figure(figsize=(9,5))\n",
        "plt.plot(samsung_df.index, samsung_df['ma5'], label=\"MA5\")\n",
        "plt.plot(samsung_df.index, samsung_df['ma20'], label=\"MA20\")\n",
        "plt.plot(samsung_df.index, samsung_df['ma60'], label=\"MA60\")\n",
        "plt.plot(samsung_df.index, samsung_df['ma120'], label=\"MA120\")\n",
        "plt.legend(loc='best')\n",
        "plt.grid()\n",
        "plt.show()"
      ],
      "metadata": {
        "id": "Ja_XlyKhggLn"
      },
      "execution_count": null,
      "outputs": []
    },
    {
      "cell_type": "code",
      "source": [
        "import numpy as np\n",
        "samsung_df['ma20_asc']=samsung_df['ma20'] - samsung_df['ma20'].shift(1)\n",
        "samsung_df['sell'] = np.where( (samsung_df['ma20_asc'] > 0) & (samsung_df['ma20_asc'].shift(1) < 0) & (samsung_df['ma20_asc'].shift(2) < 0) & (samsung_df['ma20_asc'].shift(3) < 0), 'OK', '')\n",
        "samsung_df = samsung_df[::-1]\n",
        "samsung_df['maxhigh'] = samsung_df['High'].rolling(window=20).max()\n",
        "samsung_df['status'] = np.where( (samsung_df['sell'] == 'OK') & ( (samsung_df['Close'] * 1.033) < samsung_df['maxhigh']),'Success','Fail' )\n",
        "samsung_df = samsung_df[samsung_df['sell'] == 'OK']\n",
        "# samsung_df['2021-11-05']\n",
        "\n",
        "samsung_df"
      ],
      "metadata": {
        "id": "Iij06Td5Bjbz"
      },
      "execution_count": null,
      "outputs": []
    }
  ]
}