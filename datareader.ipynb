{
  "nbformat": 4,
  "nbformat_minor": 0,
  "metadata": {
    "colab": {
      "name": "Untitled0.ipynb",
      "private_outputs": true,
      "provenance": [],
      "collapsed_sections": [],
      "authorship_tag": "ABX9TyNoHm5p2TE/GP4pnfr5hLun",
      "include_colab_link": true
    },
    "kernelspec": {
      "name": "python3",
      "display_name": "Python 3"
    },
    "language_info": {
      "name": "python"
    }
  },
  "cells": [
    {
      "cell_type": "markdown",
      "metadata": {
        "id": "view-in-github",
        "colab_type": "text"
      },
      "source": [
        "<a href=\"https://colab.research.google.com/github/csw180/romanticpy/blob/main/datareader.ipynb\" target=\"_parent\"><img src=\"https://colab.research.google.com/assets/colab-badge.svg\" alt=\"Open In Colab\"/></a>"
      ]
    },
    {
      "cell_type": "code",
      "source": [
        "!pip install pandas-datareader"
      ],
      "metadata": {
        "id": "0sWK55Wlc2zs"
      },
      "execution_count": null,
      "outputs": []
    },
    {
      "cell_type": "code",
      "execution_count": null,
      "metadata": {
        "id": "mWIsdOH3c1G3"
      },
      "outputs": [],
      "source": [
        "import pandas_datareader.data as web\n",
        "import pandas as pd\n",
        "import datetime\n",
        "\n",
        "start = datetime.datetime(2021,10,1)\n",
        "end = datetime.datetime(2022,2, 24)\n",
        "# samsung_df = web.DataReader('005930', 'naver', start='2021-10-01', end='2022-02-24')\n",
        "samsung_df = web.DataReader('005930', 'naver',start='2021-01-01')\n",
        "samsung_df['ma5'] = samsung_df['Close'].rolling(window=5).mean()\n",
        "samsung_df['ma20'] = samsung_df['Close'].rolling(window=20).mean()\n",
        "samsung_df['ma60'] = samsung_df['Close'].rolling(window=60).mean()\n",
        "samsung_df['ma120'] = samsung_df['Close'].rolling(window=120).mean()\n",
        "samsung_df['ma240'] = samsung_df['Close'].rolling(window=240).mean()\n",
        "\n",
        "# print(samsung_df)\n",
        "samsung_df = samsung_df.dropna()\n",
        "samsung_df.info()"
      ]
    },
    {
      "cell_type": "code",
      "source": [
        "import matplotlib.pyplot as plt\n",
        "plt.figure(figsize=(9,5))\n",
        "plt.plot(samsung_df.index, samsung_df['ma5'], label=\"MA5\")\n",
        "plt.plot(samsung_df.index, samsung_df['ma20'], label=\"MA20\")\n",
        "plt.plot(samsung_df.index, samsung_df['ma60'], label=\"MA60\")\n",
        "plt.plot(samsung_df.index, samsung_df['ma120'], label=\"MA120\")\n",
        "plt.legend(loc='best')\n",
        "plt.grid()\n",
        "plt.show()"
      ],
      "metadata": {
        "id": "Ja_XlyKhggLn"
      },
      "execution_count": null,
      "outputs": []
    }
  ]
}