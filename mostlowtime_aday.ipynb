{
  "nbformat": 4,
  "nbformat_minor": 0,
  "metadata": {
    "colab": {
      "name": "Untitled3.ipynb",
      "private_outputs": true,
      "provenance": [],
      "authorship_tag": "ABX9TyP6VzpwsO/Rhgi7P2pE8Cjq",
      "include_colab_link": true
    },
    "kernelspec": {
      "name": "python3",
      "display_name": "Python 3"
    },
    "language_info": {
      "name": "python"
    }
  },
  "cells": [
    {
      "cell_type": "markdown",
      "metadata": {
        "id": "view-in-github",
        "colab_type": "text"
      },
      "source": [
        "<a href=\"https://colab.research.google.com/github/csw180/romanticpy/blob/main/mostlowtime_aday.ipynb\" target=\"_parent\"><img src=\"https://colab.research.google.com/assets/colab-badge.svg\" alt=\"Open In Colab\"/></a>"
      ]
    },
    {
      "cell_type": "code",
      "source": [
        "!pip install pandasql\n",
        "!pip install pyupbit"
      ],
      "metadata": {
        "id": "oE6CxUIaweO_"
      },
      "execution_count": null,
      "outputs": []
    },
    {
      "cell_type": "code",
      "execution_count": null,
      "metadata": {
        "id": "49LAULSqwICd"
      },
      "outputs": [],
      "source": [
        "import pyupbit\n",
        "from pandasql import sqldf\n",
        "import datetime\n",
        "\n",
        "df_1 = pyupbit.get_ohlcv('KRW-STRK', count=600, interval='minute60')\n",
        "df_1.reset_index(inplace=True)\n",
        "df_1.rename(columns={\"index\":\"baseday\"}, inplace = True) \n",
        "df_1['basetime'] = df_1.apply(lambda row : row.baseday.replace(hour=0,minute=0,second=0),axis=1)\n",
        "sql = \\\n",
        "'''\n",
        "select a.*\n",
        "from   df_1 a\n",
        "inner join\n",
        "  (\n",
        "    select a.basetime, min(baseday) as min_baseday\n",
        "    from   df_1 a\n",
        "    inner join \n",
        "        (\n",
        "          select  basetime, min(low) as min_low\n",
        "          from  df_1\n",
        "          group by basetime\n",
        "        )  b\n",
        "        on   a.basetime = b.basetime\n",
        "        and  a.low = b.min_low\n",
        "    group by a.baseday, a.basetime\n",
        "  )  b\n",
        "  on   a.baseday = b.min_baseday\n",
        "'''\n",
        "df = sqldf(sql, locals())\n",
        "df"
      ]
    },
    {
      "cell_type": "markdown",
      "source": [
        "23:00 로 나오는건 종가 저가인경우"
      ],
      "metadata": {
        "id": "NNV5bqaV-snb"
      }
    },
    {
      "cell_type": "markdown",
      "source": [
        "2022-01-30 일자 데이터 확인"
      ],
      "metadata": {
        "id": "MxaTiw7y-lMT"
      }
    },
    {
      "cell_type": "code",
      "source": [
        "import pyupbit\n",
        "from pandasql import sqldf\n",
        "import datetime\n",
        "\n",
        "df_1 = pyupbit.get_ohlcv('KRW-STRK', count=600, interval='minute60')\n",
        "df_1.reset_index(inplace=True)\n",
        "df_1.rename(columns={\"index\":\"baseday\"}, inplace = True) \n",
        "df_1['basetime'] = df_1.apply(lambda row : row.baseday.replace(hour=0,minute=0,second=0),axis=1)\n",
        "df_1.head(30)"
      ],
      "metadata": {
        "id": "S5IAIatG9ASK"
      },
      "execution_count": null,
      "outputs": []
    },
    {
      "cell_type": "code",
      "source": [
        "df['low_asd'] = df['low'] - df['low'].shift(1)\n",
        "df=df.dropna()\n",
        "df"
      ],
      "metadata": {
        "id": "_3a_Krko_RXT"
      },
      "execution_count": null,
      "outputs": []
    }
  ]
}