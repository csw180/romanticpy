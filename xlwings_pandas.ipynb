{
 "cells": [
  {
   "attachments": {},
   "cell_type": "markdown",
   "metadata": {
    "tags": []
   },
   "source": [
    "```\n",
    "https://docs.xlwings.org/en/stable/\n",
    "```"
   ]
  },
  {
   "cell_type": "code",
   "execution_count": 2,
   "metadata": {},
   "outputs": [
    {
     "name": "stdout",
     "output_type": "stream",
     "text": [
      "Requirement already satisfied: xlwings in c:\\python311\\lib\\site-packages (0.29.0)\n",
      "Requirement already satisfied: pywin32>=224 in c:\\users\\swkao\\appdata\\roaming\\python\\python311\\site-packages (from xlwings) (305)\n",
      "xlwings version: 0.29.0\n",
      "Successfully installed the xlwings add-in! \n"
     ]
    }
   ],
   "source": [
    "!pip install xlwings\n",
    "!xlwings addin install"
   ]
  },
  {
   "cell_type": "code",
   "execution_count": 11,
   "metadata": {},
   "outputs": [
    {
     "name": "stdout",
     "output_type": "stream",
     "text": [
      "xlwings version: 0.29.0\n",
      "Successfully removed the add-in!\n"
     ]
    }
   ],
   "source": [
    "!xlwings addin remove"
   ]
  },
  {
   "cell_type": "code",
   "execution_count": 3,
   "metadata": {},
   "outputs": [],
   "source": [
    "import xlwings as xw"
   ]
  },
  {
   "cell_type": "code",
   "execution_count": 45,
   "metadata": {},
   "outputs": [
    {
     "name": "stdout",
     "output_type": "stream",
     "text": [
      "홍길동\n"
     ]
    }
   ],
   "source": [
    "app = xw.App(visible=False)\n",
    "wb = xw.Book(\"E12EXAMPLE.xlsx\")\n",
    "sheet1 = wb.sheets['df']\n",
    "name = sheet1.range('A2').value\n",
    "print(name)"
   ]
  },
  {
   "attachments": {},
   "cell_type": "markdown",
   "metadata": {},
   "source": [
    "* xlwings 을 이용하여 시트의 일부분을 pandas dataFrame으로 만들수 있음"
   ]
  },
  {
   "cell_type": "code",
   "execution_count": 46,
   "metadata": {},
   "outputs": [
    {
     "data": {
      "text/html": [
       "<div>\n",
       "<style scoped>\n",
       "    .dataframe tbody tr th:only-of-type {\n",
       "        vertical-align: middle;\n",
       "    }\n",
       "\n",
       "    .dataframe tbody tr th {\n",
       "        vertical-align: top;\n",
       "    }\n",
       "\n",
       "    .dataframe thead th {\n",
       "        text-align: right;\n",
       "    }\n",
       "</style>\n",
       "<table border=\"1\" class=\"dataframe\">\n",
       "  <thead>\n",
       "    <tr style=\"text-align: right;\">\n",
       "      <th></th>\n",
       "      <th>이름</th>\n",
       "      <th>강의</th>\n",
       "      <th>전화번호</th>\n",
       "    </tr>\n",
       "  </thead>\n",
       "  <tbody>\n",
       "    <tr>\n",
       "      <th>0</th>\n",
       "      <td>홍길동</td>\n",
       "      <td>한국사</td>\n",
       "      <td>010-6138-6625</td>\n",
       "    </tr>\n",
       "    <tr>\n",
       "      <th>1</th>\n",
       "      <td>배성일</td>\n",
       "      <td>일본사</td>\n",
       "      <td>010-2901-3320</td>\n",
       "    </tr>\n",
       "    <tr>\n",
       "      <th>2</th>\n",
       "      <td>김민석</td>\n",
       "      <td>중국사</td>\n",
       "      <td>010-5132-3850</td>\n",
       "    </tr>\n",
       "    <tr>\n",
       "      <th>3</th>\n",
       "      <td>류승국</td>\n",
       "      <td>영국사</td>\n",
       "      <td>010-5328-6048</td>\n",
       "    </tr>\n",
       "    <tr>\n",
       "      <th>4</th>\n",
       "      <td>서재경</td>\n",
       "      <td>한국사</td>\n",
       "      <td>010-4269-7439</td>\n",
       "    </tr>\n",
       "  </tbody>\n",
       "</table>\n",
       "</div>"
      ],
      "text/plain": [
       "    이름   강의           전화번호\n",
       "0  홍길동  한국사  010-6138-6625\n",
       "1  배성일  일본사  010-2901-3320\n",
       "2  김민석  중국사  010-5132-3850\n",
       "3  류승국  영국사  010-5328-6048\n",
       "4  서재경  한국사  010-4269-7439"
      ]
     },
     "execution_count": 46,
     "metadata": {},
     "output_type": "execute_result"
    }
   ],
   "source": [
    "import pandas as pd\n",
    "df = sheet1['A1'].expand().options(pd.DataFrame).value\n",
    "df = df.reset_index()\n",
    "df.head()"
   ]
  },
  {
   "attachments": {},
   "cell_type": "markdown",
   "metadata": {},
   "source": [
    "* sha256 암호화"
   ]
  },
  {
   "cell_type": "code",
   "execution_count": 13,
   "metadata": {},
   "outputs": [],
   "source": [
    "import hashlib"
   ]
  },
  {
   "cell_type": "code",
   "execution_count": 16,
   "metadata": {},
   "outputs": [],
   "source": [
    "name = sheet1.range('A2').value.encode('utf-8')\n",
    "hasher = hashlib.new('sha256')\n",
    "hasher.update(name)\n",
    "enc = hasher.hexdigest()\n",
    "sheet1.range('A2').value = enc"
   ]
  }
 ],
 "metadata": {
  "kernelspec": {
   "display_name": "Python 3",
   "language": "python",
   "name": "python3"
  },
  "language_info": {
   "codemirror_mode": {
    "name": "ipython",
    "version": 3
   },
   "file_extension": ".py",
   "mimetype": "text/x-python",
   "name": "python",
   "nbconvert_exporter": "python",
   "pygments_lexer": "ipython3",
   "version": "3.11.1"
  },
  "orig_nbformat": 4,
  "vscode": {
   "interpreter": {
    "hash": "c261aea317cc0286b3b3261fbba9abdec21eaa57589985bb7a274bf54d6cc0a7"
   }
  }
 },
 "nbformat": 4,
 "nbformat_minor": 2
}
